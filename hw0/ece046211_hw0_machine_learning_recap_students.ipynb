{
 "cells": [
  {
   "cell_type": "markdown",
   "metadata": {
    "slideshow": {
     "slide_type": "slide"
    }
   },
   "source": [
    "# <img src=\"https://img.icons8.com/bubbles/50/000000/mind-map.png\" style=\"height:50px;display:inline\"> ECE 046211 - Technion - Deep Learning\n",
    "---\n",
    "\n",
    "## HW0 - Machine Learning Basics Refresher\n",
    "---"
   ]
  },
  {
   "cell_type": "markdown",
   "metadata": {
    "slideshow": {
     "slide_type": "slide"
    }
   },
   "source": [
    "### <img src=\"https://img.icons8.com/clouds/96/000000/keyboard.png\" style=\"height:50px;display:inline\"> Keyboard Shortcuts\n",
    "---\n",
    "* Run current cell: **Ctrl + Enter**\n",
    "* Run current cell and move to the next: **Shift + Enter**\n",
    "* Show lines in a code cell: **Esc + L**\n",
    "* View function documentation: **Shift + Tab** inside the parenthesis or `help(name_of_module)`\n",
    "* New cell below: **Esc + B**\n",
    "* Delete cell: **Esc + D, D** (two D's)"
   ]
  },
  {
   "cell_type": "markdown",
   "metadata": {
    "slideshow": {
     "slide_type": "slide"
    }
   },
   "source": [
    "### <img src=\"https://img.icons8.com/bubbles/50/000000/information.png\" style=\"height:50px;display:inline\"> Students Information\n",
    "---\n",
    "* Fill in\n",
    "\n",
    "|Name     |Campus Email| ID  |\n",
    "|---------|--------------------------------|----------|\n",
    "|Student 1| student_1@campus.technion.ac.il| 123456789|\n",
    "|Student 2| student_2@campus.technion.ac.il| 987654321|\n"
   ]
  },
  {
   "cell_type": "markdown",
   "metadata": {},
   "source": [
    "### <img src=\"https://img.icons8.com/bubbles/50/000000/upload-to-cloud.png\" style=\"height:50px;display:inline\"> Submission Guidelines\n",
    "---\n",
    "* Maximal garde: Pass/Fail (Binary).\n",
    "* Submission only in **pairs**. \n",
    "    * Please make sure you have registered your group in Moodle (there is a group creation component on the Moodle where you need to create your group and assign members).\n",
    "* **No handwritten submissions.** You can choose whether to answer in a Markdown cell in this notebook or attach a PDF with your answers.\n",
    "* <a style='color:red'> SAVE THE NOTEBOOKS WITH THE OUTPUT, CODE CELLS THAT WERE NOT RUN WILL NOT GET ANY POINTS! </a>\n",
    "* What you have to submit:\n",
    "    * If you have answered the questions in the notebook, you should submit this file only, with the name: `ece046211_hw0_id1_id2.ipynb`.\n",
    "    * If you answered the questionss in a different file you should submit a `.zip` file with the name `ece046211_hw0_id1_id2.zip` with content:\n",
    "        * `ece046211_hw0_id1_id2.ipynb` - the code tasks\n",
    "        * `ece046211_hw0_id1_id2.pdf` - answers to questions.\n",
    "    * No other file-types (`.py`, `.docx`...) will be accepted.\n",
    "* Submission on the course website (Moodle).\n",
    "* **Latex in Colab** - in some cases, Latex equations may no be rendered. To avoid this, make sure to not use *bullets* in your answers (\"* some text here with Latex equations\" -> \"some text here with Latex equations\")."
   ]
  },
  {
   "cell_type": "markdown",
   "metadata": {},
   "source": [
    "### <img src=\"https://img.icons8.com/dusk/64/000000/online.png\" style=\"height:50px;display:inline\"> Working Online and Locally\n",
    "---\n",
    "* You can choose your working environment:\n",
    "    1. `Jupyter Notebook`, **locally** with <a href=\"https://www.anaconda.com/distribution/\">Anaconda</a> or **online** on <a href=\"https://colab.research.google.com/\">Google Colab</a>\n",
    "        * Colab also supports running code on GPU, so if you don't have one, Colab is the way to go. To enable GPU on Colab, in the menu: `Runtime`$\\rightarrow$ `Change Runtime Type` $\\rightarrow$`GPU`.\n",
    "    2. Python IDE such as <a href=\"https://www.jetbrains.com/pycharm/\">PyCharm</a> or <a href=\"https://code.visualstudio.com/\">Visual Studio Code</a>.\n",
    "        * Both allow editing and running Jupyter Notebooks.\n",
    "\n",
    "* Please refer to `Setting Up the Working Environment.pdf` on the Moodle or our GitHub (https://github.com/taldatech/ee046211-deep-learning) to help you get everything installed.\n",
    "* If you need any technical assistance, please go to our Piazza forum (`hw0` folder) and describe your problem (preferably with images)."
   ]
  },
  {
   "cell_type": "markdown",
   "metadata": {
    "slideshow": {
     "slide_type": "subslide"
    }
   },
   "source": [
    "### <img src=\"https://img.icons8.com/bubbles/50/000000/checklist.png\" style=\"height:50px;display:inline\"> Agenda\n",
    "---\n",
    "\n",
    "* [Part 1 - Installation Validation](#Part-1---Installation-Validation)\n",
    "* [ Part 2 - Introduction to Python](#-Part-2---Introduction-to-Python)\n",
    "    * [NumPy](#-NumPy)\n",
    "    * [Matplotlib](#-Matplotlib)\n",
    "    * [OpenCV](#-OpenCV)\n",
    "    * [Scikit-Learn](#-Scikit-Learn)\n",
    "    * 5 Exercises\n",
    "* [Part-3 - Money-Time](#-Part-3---Money-Time)\n",
    "    * 1 Exercise (8 sections)\n",
    "* [Credits](#-Credits)"
   ]
  },
  {
   "cell_type": "markdown",
   "metadata": {
    "slideshow": {
     "slide_type": "slide"
    }
   },
   "source": [
    "### <img src=\"https://img.icons8.com/color/96/000000/software-installer.png\" style=\"height:50px;display:inline\">Part 1 - Installation Validation\n",
    "---\n",
    "To make sure you installed everything correctly and that all the libaries we need are present, the following cell should run without any errors. If you work on Colab, then just run the cell to make sure everything is installed on your instance."
   ]
  },
  {
   "cell_type": "code",
   "execution_count": null,
   "metadata": {
    "slideshow": {
     "slide_type": "subslide"
    }
   },
   "outputs": [],
   "source": [
    "# run this cell to make sure you are good to go\n",
    "import numpy as np\n",
    "import pandas as pd\n",
    "import seaborn as sns\n",
    "import matplotlib.pyplot as plt\n",
    "import scipy\n",
    "import sklearn\n",
    "import torch\n",
    "import torchvision\n",
    "import cv2\n",
    "\n",
    "if torch.cuda.is_available():\n",
    "    print(\"current cuda device: \", torch.cuda.current_device())\n",
    "device = torch.device(\"cuda:0\" if torch.cuda.is_available() else \"cpu\")\n",
    "print(\"running calculations on device: \", device)\n",
    "\n",
    "fig = plt.figure(figsize=(8, 5))\n",
    "ax = fig.add_subplot(111)\n",
    "face = scipy.datasets.face()\n",
    "ax.imshow(face)\n",
    "plt.show()"
   ]
  },
  {
   "cell_type": "code",
   "execution_count": null,
   "metadata": {
    "slideshow": {
     "slide_type": "skip"
    }
   },
   "outputs": [],
   "source": [
    "# imports for the practice (you can add more if you need)\n",
    "import os\n",
    "import numpy as np\n",
    "import pandas as pd\n",
    "import matplotlib.pyplot as plt\n",
    "from mpl_toolkits.mplot3d import Axes3D\n",
    "from sklearn.model_selection import train_test_split\n",
    "from sklearn.preprocessing import MinMaxScaler, StandardScaler\n",
    "from sklearn.linear_model import Ridge, Lasso\n",
    "# %matplotlib notebook\n",
    "%matplotlib inline"
   ]
  },
  {
   "cell_type": "markdown",
   "metadata": {
    "slideshow": {
     "slide_type": "slide"
    }
   },
   "source": [
    "### <img src=\"https://img.icons8.com/dusk/64/000000/python.png\" style=\"height:50px;display:inline\"> Part 2 - Introduction to Python\n",
    "---\n",
    "In this part, we are going to cover some of the basics in Python (it is easy, don'y worry...).\n",
    "\n",
    "All you have to do is run all the cells, and perform a really simple exercise at the end of each section."
   ]
  },
  {
   "cell_type": "markdown",
   "metadata": {
    "slideshow": {
     "slide_type": "slide"
    }
   },
   "source": [
    "## <img src=\"https://img.icons8.com/clouds/100/000000/calculator.png\" style=\"height:50px;display:inline\"> NumPy\n",
    "---\n",
    "NumPy is the fundamental package for scientific computing with Python. It contains among other things:\n",
    "\n",
    "* A powerful N-dimensional array object\n",
    "\n",
    "* Sophisticated (broadcasting) functions\n",
    "\n",
    "* Tools for integrating C/C++ and Fortran code\n",
    "\n",
    "* Useful linear algebra, Fourier transform, and random number capabilities\n",
    "\n",
    "Besides its obvious scientific uses, NumPy can also be used as an efficient multi-dimensional container of generic data. Arbitrary data-types can be defined. This allows NumPy to seamlessly and speedily integrate with a wide variety of databases\n",
    "\n"
   ]
  },
  {
   "cell_type": "markdown",
   "metadata": {
    "slideshow": {
     "slide_type": "slide"
    }
   },
   "source": [
    "### Numpy Array\n",
    "#### 1D List -> NumPy Array"
   ]
  },
  {
   "cell_type": "code",
   "execution_count": null,
   "metadata": {
    "slideshow": {
     "slide_type": "subslide"
    }
   },
   "outputs": [],
   "source": [
    "vec = [1, 2, 3] # list\n",
    "np_vec = np.array(vec) # array\n",
    "print(type(np_vec)) # check the type\n",
    "print(np_vec) # print the array"
   ]
  },
  {
   "cell_type": "markdown",
   "metadata": {
    "slideshow": {
     "slide_type": "slide"
    }
   },
   "source": [
    "#### 2D Matrix -> Numpy Array"
   ]
  },
  {
   "cell_type": "code",
   "execution_count": null,
   "metadata": {
    "slideshow": {
     "slide_type": "subslide"
    }
   },
   "outputs": [],
   "source": [
    "mat = [[2, 6, 8], [3, 7, 0]] # 2d list\n",
    "np_mat = np.array(mat) # 2d ndarray\n",
    "print(np_mat) # print the matrix"
   ]
  },
  {
   "cell_type": "markdown",
   "metadata": {
    "slideshow": {
     "slide_type": "slide"
    }
   },
   "source": [
    "#### Zeros, Ones, Eye"
   ]
  },
  {
   "cell_type": "code",
   "execution_count": null,
   "metadata": {
    "slideshow": {
     "slide_type": "subslide"
    }
   },
   "outputs": [],
   "source": [
    "# zeros, just like matlab\n",
    "zero_arr = np.zeros((3, 4))\n",
    "print(\"zeros:\")\n",
    "print(zero_arr)\n",
    "# ones, just like matlab\n",
    "print(\"ones:\")\n",
    "one_arr = np.ones((3,4))\n",
    "print(one_arr)\n",
    "# identity matrix, just like matlab\n",
    "print(\"eye:\")\n",
    "eye_arr = np.eye(3)\n",
    "print(eye_arr)"
   ]
  },
  {
   "cell_type": "markdown",
   "metadata": {
    "slideshow": {
     "slide_type": "slide"
    }
   },
   "source": [
    "### Random\n",
    "#### Create Random Arrays and Numbers with NumPy"
   ]
  },
  {
   "cell_type": "code",
   "execution_count": null,
   "metadata": {
    "slideshow": {
     "slide_type": "subslide"
    }
   },
   "outputs": [],
   "source": [
    "np.random.randn(5) # 5x1 array with numbers from N(0,1)"
   ]
  },
  {
   "cell_type": "code",
   "execution_count": null,
   "metadata": {
    "scrolled": true,
    "slideshow": {
     "slide_type": "subslide"
    }
   },
   "outputs": [],
   "source": [
    "np.random.randn(3,4) # 3x4 matrix with numbers from N(0,1)"
   ]
  },
  {
   "cell_type": "code",
   "execution_count": null,
   "metadata": {
    "slideshow": {
     "slide_type": "subslide"
    }
   },
   "outputs": [],
   "source": [
    "np.random.randint(5, 15) # random integer between start (5) and end (15)"
   ]
  },
  {
   "cell_type": "code",
   "execution_count": null,
   "metadata": {
    "slideshow": {
     "slide_type": "subslide"
    }
   },
   "outputs": [],
   "source": [
    "np.random.randint(5, 150, 5) # multiple (5) random numbers between specified range"
   ]
  },
  {
   "cell_type": "markdown",
   "metadata": {
    "slideshow": {
     "slide_type": "slide"
    }
   },
   "source": [
    "### Series of Numbers\n",
    "#### arange, linspace"
   ]
  },
  {
   "cell_type": "code",
   "execution_count": null,
   "metadata": {
    "slideshow": {
     "slide_type": "subslide"
    }
   },
   "outputs": [],
   "source": [
    "np.arange(3, 12) # 3, 4..., 11"
   ]
  },
  {
   "cell_type": "code",
   "execution_count": null,
   "metadata": {
    "slideshow": {
     "slide_type": "subslide"
    }
   },
   "outputs": [],
   "source": [
    "np.arange(3, 12, 2) # with a step of 2"
   ]
  },
  {
   "cell_type": "code",
   "execution_count": null,
   "metadata": {
    "slideshow": {
     "slide_type": "subslide"
    }
   },
   "outputs": [],
   "source": [
    "np.linspace(2, 5) # as in matlab default count is 50 -- third argument"
   ]
  },
  {
   "cell_type": "code",
   "execution_count": null,
   "metadata": {
    "slideshow": {
     "slide_type": "subslide"
    }
   },
   "outputs": [],
   "source": [
    "np.linspace(2, 5, 10) # third argument specifies the count of numbers"
   ]
  },
  {
   "cell_type": "markdown",
   "metadata": {
    "slideshow": {
     "slide_type": "slide"
    }
   },
   "source": [
    "### NumPy Operations\n",
    "\n",
    "Very similar to MATLAB"
   ]
  },
  {
   "cell_type": "code",
   "execution_count": null,
   "metadata": {
    "scrolled": true,
    "slideshow": {
     "slide_type": "subslide"
    }
   },
   "outputs": [],
   "source": [
    "# dimensions of arrays\n",
    "print(np_vec.shape)\n",
    "print(np_mat.shape)"
   ]
  },
  {
   "cell_type": "code",
   "execution_count": null,
   "metadata": {
    "slideshow": {
     "slide_type": "subslide"
    }
   },
   "outputs": [],
   "source": [
    "# maximum and minimum\n",
    "print(\"max: {}\".format(np_mat.max()))\n",
    "print(\"min: {}\".format(np_mat.min()))"
   ]
  },
  {
   "cell_type": "code",
   "execution_count": null,
   "metadata": {
    "slideshow": {
     "slide_type": "subslide"
    }
   },
   "outputs": [],
   "source": [
    "# reshape\n",
    "print(np_mat)\n",
    "print(\"reshape:\")\n",
    "print(np_mat.reshape(3,2)) # change dimensions -- only if the total number of values remains the same"
   ]
  },
  {
   "cell_type": "code",
   "execution_count": null,
   "metadata": {
    "scrolled": true,
    "slideshow": {
     "slide_type": "subslide"
    }
   },
   "outputs": [],
   "source": [
    "np_mat.reshape(3, 4) # error since total number of elements changes"
   ]
  },
  {
   "cell_type": "markdown",
   "metadata": {
    "slideshow": {
     "slide_type": "slide"
    }
   },
   "source": [
    "### Numpy Array Operations\n",
    "#### Operations between arrays and scalars"
   ]
  },
  {
   "cell_type": "code",
   "execution_count": null,
   "metadata": {
    "slideshow": {
     "slide_type": "subslide"
    }
   },
   "outputs": [],
   "source": [
    "a = np.array([0, 1, 2, 3, 4, 5])\n",
    "print(\"a = \")\n",
    "print(a)\n",
    "print(\"a + 7 = \")\n",
    "print(a + 7) # add 7 to each element\n",
    "print(\"a + 2 = \")\n",
    "print(a - 2)\n",
    "print(\"a / 2 = \")\n",
    "print(a / 2)\n",
    "print(\"a * 3 = \")\n",
    "print(a * 3)\n",
    "print(\"sin(a) = \")\n",
    "print(np.sin(a)) # sin() of each element, same dimensions\n",
    "print(\"sum(a) = \")\n",
    "print(np.sum(a)) # sum of all elements\n",
    "print(\"mean(a) = \")\n",
    "print(np.mean(a)) # mean of the array"
   ]
  },
  {
   "cell_type": "code",
   "execution_count": null,
   "metadata": {
    "slideshow": {
     "slide_type": "subslide"
    }
   },
   "outputs": [],
   "source": [
    "a1 = np.array([[1, 3], [4, 6]])\n",
    "print(\"a1 = \")\n",
    "print(a1)\n",
    "b1 = np.array([[0, 2], [3, 1]])\n",
    "print(\"b1 = \")\n",
    "print(b1)"
   ]
  },
  {
   "cell_type": "code",
   "execution_count": null,
   "metadata": {
    "slideshow": {
     "slide_type": "subslide"
    }
   },
   "outputs": [],
   "source": [
    "print(\"a1 + b1 = \")\n",
    "print(a1 + b1)\n",
    "print(\"a1 * b1 = \")\n",
    "print(a1 * b1) # element-wise multiplication\n",
    "print(\"matrix multiplication: np.dot(a1, b1) = \")\n",
    "print(np.dot(a1, b1)) # matrix multiplication\n",
    "print(\"np.dot() is the same as using @: a1 @ b1 = \")\n",
    "print(a1 @ b1) # matrix multiplication"
   ]
  },
  {
   "cell_type": "code",
   "execution_count": null,
   "metadata": {
    "scrolled": true,
    "slideshow": {
     "slide_type": "subslide"
    }
   },
   "outputs": [],
   "source": [
    "# element-wise comparison\n",
    "print(a > 2) # compare each and every element"
   ]
  },
  {
   "cell_type": "markdown",
   "metadata": {
    "slideshow": {
     "slide_type": "slide"
    }
   },
   "source": [
    "### <img src=\"https://img.icons8.com/color/96/000000/deadlift.png\" style=\"height:50px;display:inline\"> Exercise 1\n",
    "---\n",
    "Create 2 random matrices of the following shapes:\n",
    "* $a \\in \\mathcal{R}^{2 \\times 3} $\n",
    "* $b \\in \\mathcal{R}^{3 \\times 2} $\n",
    "\n",
    "And perform matrix multiplication."
   ]
  },
  {
   "cell_type": "code",
   "execution_count": null,
   "metadata": {
    "slideshow": {
     "slide_type": "subslide"
    }
   },
   "outputs": [],
   "source": [
    "\"\"\"\n",
    "Your Code Here\n",
    "\"\"\""
   ]
  },
  {
   "cell_type": "markdown",
   "metadata": {
    "slideshow": {
     "slide_type": "slide"
    }
   },
   "source": [
    "### Indexing, Slicing, Broadcasting"
   ]
  },
  {
   "cell_type": "code",
   "execution_count": null,
   "metadata": {
    "slideshow": {
     "slide_type": "subslide"
    }
   },
   "outputs": [],
   "source": [
    "d1 = np.arange(25)\n",
    "print(d1)"
   ]
  },
  {
   "cell_type": "code",
   "execution_count": null,
   "metadata": {
    "scrolled": true,
    "slideshow": {
     "slide_type": "subslide"
    }
   },
   "outputs": [],
   "source": [
    "d2 = np.arange(25).reshape(5,5)\n",
    "print(d2)"
   ]
  },
  {
   "cell_type": "code",
   "execution_count": null,
   "metadata": {
    "slideshow": {
     "slide_type": "subslide"
    }
   },
   "outputs": [],
   "source": [
    "# slicing\n",
    "d1[4:12] # slicing -- d1[start : end+1]"
   ]
  },
  {
   "cell_type": "code",
   "execution_count": null,
   "metadata": {
    "scrolled": true,
    "slideshow": {
     "slide_type": "subslide"
    }
   },
   "outputs": [],
   "source": [
    "print(\"d1[4: ] = \")\n",
    "print(d1[4: ])\n",
    "print(\"d1[:13] = \")\n",
    "print(d1[:13])"
   ]
  },
  {
   "cell_type": "code",
   "execution_count": null,
   "metadata": {
    "slideshow": {
     "slide_type": "subslide"
    }
   },
   "outputs": [],
   "source": [
    "print(\"d2[0,0] = \")\n",
    "print(d2[0,0]) # d2[row, column]\n",
    "print(\"d2[2,] = \")\n",
    "print(d2[2,])\n",
    "print(\"d2[:, 3]\")\n",
    "print(d2[:, 3])"
   ]
  },
  {
   "cell_type": "code",
   "execution_count": null,
   "metadata": {
    "slideshow": {
     "slide_type": "subslide"
    }
   },
   "outputs": [],
   "source": [
    "# broadcasting\n",
    "print(\"d1[0:5] = \")\n",
    "print(d1[0:5])\n",
    "print(\"d1[0:5] = -10\")\n",
    "d1[0:5] = -10 # broadcasting -- Change specific elements of the array\n",
    "print(d1[0:5])"
   ]
  },
  {
   "cell_type": "markdown",
   "metadata": {
    "colab_type": "text",
    "id": "LTABPyeIlsQ8",
    "slideshow": {
     "slide_type": "slide"
    }
   },
   "source": [
    "### Using Boolean and Integer Arrays as indices\n",
    "\n",
    "What if we want some sort of permutation of the tensor, that's not easy to express in slice notation?\n",
    "\n",
    "We can index into an array using an array of integers!\n",
    "\n",
    "Let's test this out on a small array first.\n"
   ]
  },
  {
   "cell_type": "code",
   "execution_count": null,
   "metadata": {
    "slideshow": {
     "slide_type": "subslide"
    }
   },
   "outputs": [],
   "source": [
    "my_array = np.array(range(5)) * 10 + 3\n",
    "print(\"my_array:\")\n",
    "print(my_array)\n",
    "# We want the elements in this order\n",
    "array_of_indices = np.array([4, 1, 3, 0, 2])\n",
    "print(\"new order: \", repr(array_of_indices))\n",
    "print(my_array[array_of_indices])"
   ]
  },
  {
   "cell_type": "markdown",
   "metadata": {
    "colab_type": "text",
    "id": "_hKOdDO7lsRX",
    "slideshow": {
     "slide_type": "slide"
    }
   },
   "source": [
    "The shape of the output is determined by the index-array. We can use this to make complicated shapes, repeat elements, or exclude elements! We can also use boolean arrays (masks) of the same size as the input, to get a part of the output!"
   ]
  },
  {
   "cell_type": "code",
   "execution_count": null,
   "metadata": {
    "scrolled": true,
    "slideshow": {
     "slide_type": "subslide"
    }
   },
   "outputs": [],
   "source": [
    "# Make a selector array\n",
    "selector = (np.random.random((3,4)) * len(my_array)).astype(int)\n",
    "print(\"selector array: \")\n",
    "print(selector)\n",
    "# Now, we can use these to get elements from our original array!\n",
    "my_array[selector]"
   ]
  },
  {
   "cell_type": "markdown",
   "metadata": {
    "colab_type": "text",
    "id": "hF-Sh9z8lsSC",
    "slideshow": {
     "slide_type": "slide"
    }
   },
   "source": [
    "This is indexing - so we can also SET elements like this!"
   ]
  },
  {
   "cell_type": "code",
   "execution_count": null,
   "metadata": {
    "slideshow": {
     "slide_type": "subslide"
    }
   },
   "outputs": [],
   "source": [
    "# create a mask\n",
    "my_mask = np.array([1, 0, 0, 1, 1], dtype=bool)\n",
    "print(\"mask: \", repr(my_mask))\n",
    "print(\"Original\")\n",
    "print(repr(my_array))\n",
    "print(\"Masked with\",repr(my_mask))\n",
    "print(repr(my_array[my_mask]))"
   ]
  },
  {
   "cell_type": "code",
   "execution_count": null,
   "metadata": {
    "slideshow": {
     "slide_type": "subslide"
    }
   },
   "outputs": [],
   "source": [
    "print(repr(my_array))\n",
    "replacement = np.array([600, 700, 800])\n",
    "my_array[my_mask] = replacement\n",
    "print(repr(my_array))"
   ]
  },
  {
   "cell_type": "markdown",
   "metadata": {
    "colab_type": "text",
    "id": "f4pYwWZUlsSJ",
    "slideshow": {
     "slide_type": "slide"
    }
   },
   "source": [
    "The `<` and `>` operators return **masks** - so you can use these to mask the original array, or even other arrays!"
   ]
  },
  {
   "cell_type": "code",
   "execution_count": null,
   "metadata": {
    "slideshow": {
     "slide_type": "subslide"
    }
   },
   "outputs": [],
   "source": [
    "# for example, you want to change pixels with gray-level larger than 20\n",
    "print(my_array > 20)\n",
    "print(my_array[my_array > 20])"
   ]
  },
  {
   "cell_type": "markdown",
   "metadata": {
    "colab_type": "text",
    "id": "7-4In7ZklsTi",
    "slideshow": {
     "slide_type": "slide"
    }
   },
   "source": [
    "### Other Useful Functions\n",
    "Other functions in Numpy that are useful:\n",
    "- `np.sum`: Adds all elements of an ndarray, or sums along a given dimension (\"axis\")\n",
    "- `np.stack`: joins two arrays in a new dimension\n",
    "- `np.concatenate`: joins two arrays in an existing dimension"
   ]
  },
  {
   "cell_type": "code",
   "execution_count": null,
   "metadata": {
    "slideshow": {
     "slide_type": "subslide"
    }
   },
   "outputs": [],
   "source": [
    "# create some matrix\n",
    "A = np.array(range(10)).reshape(2,5)\n",
    "A"
   ]
  },
  {
   "cell_type": "code",
   "execution_count": null,
   "metadata": {
    "scrolled": true,
    "slideshow": {
     "slide_type": "subslide"
    }
   },
   "outputs": [],
   "source": [
    "print(\"A's Shape is\", A.shape)\n",
    "col_sum = np.sum(A, axis=0) # A.sum(0)\n",
    "row_sum = np.sum(A, axis=1) # A.sum(1)\n",
    "total_sum = np.sum(A) # A.sum()\n",
    "print(\"Row sums (shape: %s) - sum all values on axis 1 (along the column)\" % str(row_sum.shape))\n",
    "print(repr(row_sum))\n",
    "print(\"Col sums (shape: %s) - sum all values on axis 0 (along the row)\" % str(col_sum.shape))\n",
    "print(repr(col_sum))\n",
    "print(\"Full array sum (scalar)\")\n",
    "print(repr(total_sum))"
   ]
  },
  {
   "cell_type": "markdown",
   "metadata": {
    "colab_type": "text",
    "id": "qDOGS3dOlsTo",
    "slideshow": {
     "slide_type": "slide"
    }
   },
   "source": [
    "**Stacking Arrays**"
   ]
  },
  {
   "cell_type": "code",
   "execution_count": null,
   "metadata": {
    "colab": {
     "base_uri": "https://localhost:8080/",
     "height": 119
    },
    "colab_type": "code",
    "executionInfo": {
     "elapsed": 287,
     "status": "ok",
     "timestamp": 1568322846961,
     "user": {
      "displayName": "Sanjay Ganeshan",
      "photoUrl": "https://lh3.googleusercontent.com/a-/AAuE7mArmbyUUBnXc4XoqA7WImP6ryM75lFUZS9fzkk=s64",
      "userId": "01127860167299715294"
     },
     "user_tz": 240
    },
    "id": "3eoEBIkBlsTo",
    "outputId": "bda566c7-62a8-4b34-e06c-dfe82f38467b",
    "slideshow": {
     "slide_type": "subslide"
    }
   },
   "outputs": [],
   "source": [
    "A = np.array((range(10))).reshape(2,5)\n",
    "B = np.array((range(10, 20))).reshape(2,5)\n",
    "print(\"A=\", repr(A), sep=\"\\n\")\n",
    "print(\"B=\", repr(B), sep=\"\\n\")\n",
    "\n",
    "# stack arrays on a new axis\n",
    "stacked = np.stack([A,B])\n",
    "print(\"A shape: %s  ---  B shape: %s  ---  stacked shape: %s\" % (A.shape, B.shape, stacked.shape))\n",
    "print(stacked)"
   ]
  },
  {
   "cell_type": "markdown",
   "metadata": {
    "colab_type": "text",
    "id": "nlX3LjKylsTv",
    "slideshow": {
     "slide_type": "slide"
    }
   },
   "source": [
    "**Concatenating arrays** \\\n",
    "Concatenate arrays along an existing axis 0 (change only axis 0, rest of shape should be same)"
   ]
  },
  {
   "cell_type": "code",
   "execution_count": null,
   "metadata": {
    "scrolled": true,
    "slideshow": {
     "slide_type": "subslide"
    }
   },
   "outputs": [],
   "source": [
    "catted = np.concatenate([A,B], axis=0)\n",
    "print(\"A shape: %s  ---  B shape: %s  ---  catted shape (meow!): %s\" % (A.shape, B.shape, catted.shape))\n",
    "print(catted)"
   ]
  },
  {
   "cell_type": "markdown",
   "metadata": {
    "slideshow": {
     "slide_type": "slide"
    }
   },
   "source": [
    "### <img src=\"https://img.icons8.com/color/96/000000/deadlift.png\" style=\"height:50px;display:inline\"> Exercise 2\n",
    "---\n",
    "In one line of code, print the number of non-negative values of a a random `np.array` (from $\\mathcal{N}(0,1)$) of shape $32 \\times 32$."
   ]
  },
  {
   "cell_type": "code",
   "execution_count": null,
   "metadata": {
    "slideshow": {
     "slide_type": "subslide"
    }
   },
   "outputs": [],
   "source": [
    "\"\"\"\n",
    "Your Code Here\n",
    "\"\"\""
   ]
  },
  {
   "cell_type": "markdown",
   "metadata": {
    "slideshow": {
     "slide_type": "slide"
    }
   },
   "source": [
    "## <img src=\"https://img.icons8.com/dusk/64/000000/area-chart.png\" style=\"height:50px;display:inline\"> Matplotlib\n",
    "---\n",
    "A 2D plotting library which produces publication quality figures.\n",
    " - Can be used in python scripts, the python and IPython shell, web application servers, and more …\n",
    " - Can be used to generate plots, histograms, power spectra, bar charts, errorcharts, scatterplots, etc.\n",
    " - For simple plotting, pyplot provides a MATLAB-like interface \n",
    " - For power users, a full control via OO interface or via a set of functions\n",
    "\n",
    "There are several Matplotlib add-on toolkits\n",
    " - Projection and mapping toolkits [basemap](http://matplotlib.org/basemap/) and [cartopy](http://scitools.org.uk/cartopy/).\n",
    " - Interactive plots in web browsers using [Bokeh](http://bokeh.pydata.org/en/latest/).\n",
    " - Higher level interface with updated visualizations [Seaborn](http://seaborn.pydata.org/index.html).\n",
    "\n",
    "Matplotlib is available at [www.matplotlib.org](www.matplotlib.org)"
   ]
  },
  {
   "cell_type": "markdown",
   "metadata": {
    "colab_type": "text",
    "id": "JU4i6qIk2aqj",
    "slideshow": {
     "slide_type": "slide"
    }
   },
   "source": [
    "## Line Plots"
   ]
  },
  {
   "cell_type": "markdown",
   "metadata": {
    "colab_type": "text",
    "id": "lLE2bOLV2aqk",
    "slideshow": {
     "slide_type": "slide"
    }
   },
   "source": [
    "### Plot Against Indices"
   ]
  },
  {
   "cell_type": "code",
   "execution_count": null,
   "metadata": {
    "slideshow": {
     "slide_type": "subslide"
    }
   },
   "outputs": [],
   "source": [
    "x = np.arange(50) * 2 * np.pi / 50\n",
    "y = np.sin(x)\n",
    "fig = plt.figure(figsize=(8, 5)) # create a figure, just like in matlab\n",
    "ax = fig.add_subplot(1, 1 ,1) # create a subplot of certain size\n",
    "ax.plot(y, label=\"y = sin(x)\")\n",
    "ax.set_xlabel('index')\n",
    "ax.set_ylabel(\"sin(x)\")\n",
    "ax.set_title(\"sin(x)\")\n",
    "ax.grid()\n",
    "ax.legend()"
   ]
  },
  {
   "cell_type": "markdown",
   "metadata": {
    "colab_type": "text",
    "id": "jWP09PPq2aqs",
    "slideshow": {
     "slide_type": "slide"
    }
   },
   "source": [
    "### Multiple Lines"
   ]
  },
  {
   "cell_type": "code",
   "execution_count": null,
   "metadata": {
    "slideshow": {
     "slide_type": "subslide"
    }
   },
   "outputs": [],
   "source": [
    "x2 = np.arange(50) * 2 * np.pi / 25\n",
    "y2 = np.sin(x2)\n",
    "fig = plt.figure(figsize=(8, 5)) # create a figure, just like in matlab\n",
    "ax = fig.add_subplot(1, 1 ,1) # create a subplot of certain size\n",
    "ax.plot(y, label=\"y1 = sin(x1)\")\n",
    "ax.plot(y2, 'r-^', label=\"y2 = sin(x2)\")\n",
    "ax.set_xlabel('index')\n",
    "ax.set_ylabel(\"sin(x)\")\n",
    "ax.set_title(\"sin(x)\")\n",
    "ax.grid()\n",
    "ax.legend()"
   ]
  },
  {
   "cell_type": "markdown",
   "metadata": {
    "colab_type": "text",
    "id": "HOfPan8W2arb",
    "slideshow": {
     "slide_type": "slide"
    }
   },
   "source": [
    "### Scatter Plots"
   ]
  },
  {
   "cell_type": "code",
   "execution_count": null,
   "metadata": {
    "slideshow": {
     "slide_type": "subslide"
    }
   },
   "outputs": [],
   "source": [
    "x = np.arange(50) * 2 * np.pi / 50\n",
    "y = np.sin(x)\n",
    "fig = plt.figure(figsize=(8, 5)) # create a figure, just like in matlab\n",
    "ax = fig.add_subplot(1, 1 ,1) # create a subplot of certain size\n",
    "ax.scatter(x, y, label=\"y = sin(x)\")\n",
    "ax.set_xlabel('index')\n",
    "ax.set_ylabel(\"sin(x)\")\n",
    "ax.set_title(\"scatter sin(x)\")\n",
    "ax.grid()\n",
    "ax.legend()"
   ]
  },
  {
   "cell_type": "markdown",
   "metadata": {
    "colab_type": "text",
    "id": "TvWvh-rk2arj",
    "slideshow": {
     "slide_type": "slide"
    }
   },
   "source": [
    "### Bar Plots"
   ]
  },
  {
   "cell_type": "code",
   "execution_count": null,
   "metadata": {
    "slideshow": {
     "slide_type": "subslide"
    }
   },
   "outputs": [],
   "source": [
    "fig = plt.figure(figsize=(8, 8)) # create a figure, just like in matlab\n",
    "ax1 = fig.add_subplot(2, 1 ,1) # create a subplot of certain size\n",
    "ax1.bar(x, y)\n",
    "ax1.set_xlabel('x')\n",
    "ax1.set_ylabel(\"y\")\n",
    "ax1.set_title(\"bar plot\")\n",
    "ax1.grid()\n",
    "\n",
    "ax2 = fig.add_subplot(2, 1 ,2) # create a subplot of certain size\n",
    "ax2.barh(x, y, height=x[1]-x[0])\n",
    "ax2.set_xlabel('x')\n",
    "ax2.set_ylabel(\"y\")\n",
    "ax2.set_title(\"barh plot\")\n",
    "ax2.grid()\n",
    "\n",
    "plt.tight_layout()"
   ]
  },
  {
   "cell_type": "markdown",
   "metadata": {
    "colab_type": "text",
    "id": "v5vzWO4h2arn",
    "slideshow": {
     "slide_type": "slide"
    }
   },
   "source": [
    "### Histogram"
   ]
  },
  {
   "cell_type": "code",
   "execution_count": null,
   "metadata": {
    "slideshow": {
     "slide_type": "subslide"
    }
   },
   "outputs": [],
   "source": [
    "fig = plt.figure(figsize=(8, 5)) # create a figure, just like in matlab\n",
    "ax = fig.add_subplot(1, 1 ,1) # create a subplot of certain size\n",
    "ax.hist(np.random.randn(1000), 30) # 30 is the number of bins\n",
    "ax.set_title(\"histogram\")\n",
    "ax.grid()"
   ]
  },
  {
   "cell_type": "markdown",
   "metadata": {
    "slideshow": {
     "slide_type": "slide"
    }
   },
   "source": [
    "### <img src=\"https://img.icons8.com/color/96/000000/deadlift.png\" style=\"height:50px;display:inline\"> Exercise 3\n",
    "---\n",
    "Create 1000 values using `linspace` and plot $tan(x)$ both as `plot` and `scatter` as 2 different subplots"
   ]
  },
  {
   "cell_type": "code",
   "execution_count": null,
   "metadata": {
    "slideshow": {
     "slide_type": "subslide"
    }
   },
   "outputs": [],
   "source": [
    "\"\"\"\n",
    "Your Code Here\n",
    "\"\"\""
   ]
  },
  {
   "cell_type": "markdown",
   "metadata": {
    "colab_type": "text",
    "id": "RfdV9IkflsT_",
    "slideshow": {
     "slide_type": "slide"
    }
   },
   "source": [
    "## <img src=\"https://opencv.org/wp-content/uploads/2020/07/OpenCV_logo_black-2.png\" style=\"height:50px;display:inline\"> OpenCV\n",
    "---\n",
    "OpenCV (Open Source Computer Vision Library) is an open source computer vision and machine learning software library. OpenCV was built to provide a common infrastructure for computer vision applications and to accelerate the use of machine perception in the commercial products.\n",
    "\n",
    "It has C++, Python, Java and MATLAB interfaces and supports Windows, Linux, Android and Mac OS. OpenCV leans mostly towards real-time vision applications and takes advantage of MMX and SSE instructions when available. A full-featured CUDA and OpenCL interfaces are being actively developed right now. "
   ]
  },
  {
   "cell_type": "markdown",
   "metadata": {
    "colab_type": "text",
    "id": "PFgfbGIAlsUD",
    "slideshow": {
     "slide_type": "slide"
    }
   },
   "source": [
    "## Reading, Writing, and Showing Images\n",
    "\n",
    "### Reading\n",
    "\n",
    "You can use the `imread` function to read in an image from a filepath."
   ]
  },
  {
   "cell_type": "code",
   "execution_count": null,
   "metadata": {
    "slideshow": {
     "slide_type": "subslide"
    }
   },
   "outputs": [],
   "source": [
    "batman_image = cv2.imread(os.path.join(\".\", \"batman_logo.jpg\"))\n",
    "# same as './batman_logo.jpg'"
   ]
  },
  {
   "cell_type": "markdown",
   "metadata": {
    "colab_type": "text",
    "id": "1J28iYBklsUF",
    "slideshow": {
     "slide_type": "slide"
    }
   },
   "source": [
    "Images in OpenCV are represented as numpy arrays!"
   ]
  },
  {
   "cell_type": "code",
   "execution_count": null,
   "metadata": {
    "slideshow": {
     "slide_type": "subslide"
    }
   },
   "outputs": [],
   "source": [
    "type(batman_image), batman_image.shape, batman_image.dtype"
   ]
  },
  {
   "cell_type": "markdown",
   "metadata": {
    "colab_type": "text",
    "id": "Yrp_h0RllsUI",
    "slideshow": {
     "slide_type": "slide"
    }
   },
   "source": [
    "### Channels, Image Formats, and using images as arrays\n",
    "The shape of a color image is (height, width, colors **BGR**) \\\n",
    "While it may seem strange that the height is first, it's because OpenCV treats images as \"Rows\" and \"Columns\" of an image. The \"height\" of an image is the number of rows!"
   ]
  },
  {
   "cell_type": "code",
   "execution_count": null,
   "metadata": {
    "slideshow": {
     "slide_type": "subslide"
    }
   },
   "outputs": [],
   "source": [
    "batman_image.shape"
   ]
  },
  {
   "cell_type": "markdown",
   "metadata": {
    "colab_type": "text",
    "id": "s7XtSj29lsUN",
    "slideshow": {
     "slide_type": "slide"
    }
   },
   "source": [
    "You can see each pixel is represented by 3 values (uint8 means they are between 0 and 255)"
   ]
  },
  {
   "cell_type": "code",
   "execution_count": null,
   "metadata": {
    "slideshow": {
     "slide_type": "subslide"
    }
   },
   "outputs": [],
   "source": [
    "batman_image[0,0] # Get the pixel located at (0,0) from the top left"
   ]
  },
  {
   "cell_type": "markdown",
   "metadata": {
    "colab_type": "text",
    "id": "Fzc0htGqlsUU",
    "slideshow": {
     "slide_type": "slide"
    }
   },
   "source": [
    "Color images consist of \"channels\" - each color we can render is some combination of red, green, and blue (OR, in the case of a grayscale image, gray).\n",
    "\n",
    "\n",
    "By default, color images are opened by OpenCV as **BGR**, meaning the values for a given pixel are ordered **\"blue, green, red\"**.\n",
    "\n",
    "We can use the `cv2.cvtColor` function to change which color system our image is in. This will appear shortly."
   ]
  },
  {
   "cell_type": "code",
   "execution_count": null,
   "metadata": {
    "slideshow": {
     "slide_type": "subslide"
    }
   },
   "outputs": [],
   "source": [
    "batman_image_rgb = cv2.cvtColor(batman_image, cv2.COLOR_BGR2RGB)"
   ]
  },
  {
   "cell_type": "markdown",
   "metadata": {
    "colab_type": "text",
    "id": "uaa3_J_flsUY",
    "slideshow": {
     "slide_type": "slide"
    }
   },
   "source": [
    "### Showing the image \n",
    "If you're running scripted Python (not Jupyter notebook) The `cv2.imshow` command will display an image. However, this doesn't work in jupyter notebook, so we'll use Matplotlib's `plt.imshow` instead.\n",
    "\n",
    "Matplotlib assumes images are in the **RGB** format. OpenCV assumes that images are in the **BGR** format. So, we'll convert colors before showing the image. Let's make a function to do this.\n",
    "\n",
    "* Note: `matplotlib` also has an `imread` function - `plt.imread(path)`, but for consistency we will use the one in `cv2`."
   ]
  },
  {
   "cell_type": "code",
   "execution_count": null,
   "metadata": {
    "slideshow": {
     "slide_type": "subslide"
    }
   },
   "outputs": [],
   "source": [
    "fig = plt.figure(figsize=(8, 5)) # create a figure, just like in matlab\n",
    "ax = fig.add_subplot(1, 1 ,1) # create a subplot of certain size\n",
    "ax.imshow(batman_image_rgb)\n",
    "ax.set_title(\"Batman!\")\n",
    "ax.set_axis_off()"
   ]
  },
  {
   "cell_type": "markdown",
   "metadata": {
    "colab_type": "text",
    "id": "2HnYFtCOlsUi",
    "slideshow": {
     "slide_type": "slide"
    }
   },
   "source": [
    "### Manipulating images\n",
    "\n",
    "#### Changing color spaces\n",
    "\n",
    "OpenCV exposes several functions to work with images. Let's use the `cvtColor` function to convert the color image to gray. Grayscale images do not have a third dimension, instead, each pixel has a luminosity (\"whiteness\") value between 0 and 255."
   ]
  },
  {
   "cell_type": "code",
   "execution_count": null,
   "metadata": {
    "slideshow": {
     "slide_type": "subslide"
    }
   },
   "outputs": [],
   "source": [
    "batman_gray = cv2.cvtColor(batman_image, cv2.COLOR_BGR2GRAY)\n",
    "fig = plt.figure(figsize=(8, 5)) # create a figure, just like in matlab\n",
    "ax = fig.add_subplot(1, 1 ,1) # create a subplot of certain size\n",
    "ax.imshow(batman_gray, cmap=\"gray\")\n",
    "ax.set_title(\"Batman, but in GRAY!\")\n",
    "ax.set_axis_off()"
   ]
  },
  {
   "cell_type": "markdown",
   "metadata": {
    "colab_type": "text",
    "id": "xp2T7RjElsUl",
    "slideshow": {
     "slide_type": "slide"
    }
   },
   "source": [
    "We also can manipulate it by doing anything we would to a normal array. Let's make an image that includes the gray Batman as the blue channel and red channels, and nothing in the green channels (this is NOT the same as excluding the green channel from the original image)."
   ]
  },
  {
   "cell_type": "code",
   "execution_count": null,
   "metadata": {
    "slideshow": {
     "slide_type": "subslide"
    }
   },
   "outputs": [],
   "source": [
    "empty_arr = np.zeros(batman_gray.shape, dtype=np.uint8)\n",
    "\n",
    "# stack them, making the 3rd axis\n",
    "special_batman = np.stack([ batman_gray, empty_arr, batman_gray, ], axis=2)\n",
    "print(\"created image of shape\", special_batman.shape)\n",
    "\n",
    "fig = plt.figure(figsize=(8, 5)) # create a figure, just like in matlab\n",
    "ax = fig.add_subplot(1, 1, 1) # create a subplot of certain size\n",
    "ax.imshow(special_batman)\n",
    "ax.set_title(\"Batman, but SPECIAL!\")\n",
    "ax.set_axis_off()"
   ]
  },
  {
   "cell_type": "markdown",
   "metadata": {
    "colab_type": "text",
    "id": "YKLPU5EilsUo",
    "slideshow": {
     "slide_type": "slide"
    }
   },
   "source": [
    "#### Resizing images\n",
    "\n",
    "We can also resize images using `resize`. This needs the output size. Note that these are image sizes, which are expressed as (width, height), NOT to be confused with their shape."
   ]
  },
  {
   "cell_type": "code",
   "execution_count": null,
   "metadata": {
    "slideshow": {
     "slide_type": "subslide"
    }
   },
   "outputs": [],
   "source": [
    "image_height, image_width, image_num_channels = special_batman.shape\n",
    "new_height = image_height * 2\n",
    "new_width = image_width * 3\n",
    "\n",
    "# Resize it to 3x the width, and 2x the height, so we expect some distortion. \n",
    "# (To display it in the browser, the image is being scaled down anyway, so resizing it 2 x 2 will not be obvious)\n",
    "\n",
    "bigger_special_batman = cv2.resize(special_batman, (new_width, new_height))\n",
    "print(\"resized to image of shape\", bigger_special_batman.shape)\n",
    "\n",
    "fig = plt.figure(figsize=(20, 15)) # create a figure, just like in matlab\n",
    "ax = fig.add_subplot(1, 1, 1) # create a subplot of certain size\n",
    "ax.imshow(bigger_special_batman)\n",
    "ax.set_title(\"Batman, but SPECIAL AND BIGGER!\")\n",
    "ax.set_axis_off()"
   ]
  },
  {
   "cell_type": "markdown",
   "metadata": {
    "colab_type": "text",
    "id": "gjWQYjYVlsUt",
    "slideshow": {
     "slide_type": "slide"
    }
   },
   "source": [
    "### Writing an Image\n",
    "The `imwrite` function can write out an image. Let's write out the image we just made, so we can use it later!"
   ]
  },
  {
   "cell_type": "code",
   "execution_count": null,
   "metadata": {
    "scrolled": true,
    "slideshow": {
     "slide_type": "subslide"
    }
   },
   "outputs": [],
   "source": [
    "output_path = os.path.join(\".\", \"output_batman.png\")\n",
    "cv2.imwrite(output_path, bigger_special_batman)"
   ]
  },
  {
   "cell_type": "markdown",
   "metadata": {
    "colab_type": "text",
    "id": "OCG0F5m7lsUw",
    "slideshow": {
     "slide_type": "slide"
    }
   },
   "source": [
    "We should be able to read that image directly from the file. Let's try!"
   ]
  },
  {
   "cell_type": "code",
   "execution_count": null,
   "metadata": {
    "slideshow": {
     "slide_type": "subslide"
    }
   },
   "outputs": [],
   "source": [
    "test_read_output = cv2.imread(output_path)\n",
    "print(\"Read file of shape:\", test_read_output.shape, \"type\",test_read_output.dtype)\n",
    "fig = plt.figure(figsize=(20, 15)) # create a figure, just like in matlab\n",
    "ax = fig.add_subplot(1, 1, 1) # create a subplot of certain size\n",
    "ax.imshow(test_read_output)\n",
    "ax.set_title(\"test_read_output\")\n",
    "ax.set_axis_off()"
   ]
  },
  {
   "cell_type": "markdown",
   "metadata": {
    "slideshow": {
     "slide_type": "slide"
    }
   },
   "source": [
    "### <img src=\"https://img.icons8.com/color/96/000000/deadlift.png\" style=\"height:50px;display:inline\"> Exercise 4\n",
    "---\n",
    "Load the \"Batman\" image, convert it to gray, resize it by 0.5, rotate it by 180 degrees (`cv2.rotate`) and change the color of the image to red. Display the result."
   ]
  },
  {
   "cell_type": "code",
   "execution_count": null,
   "metadata": {
    "slideshow": {
     "slide_type": "subslide"
    }
   },
   "outputs": [],
   "source": [
    "\"\"\"\n",
    "Your Code Here\n",
    "\"\"\""
   ]
  },
  {
   "cell_type": "markdown",
   "metadata": {
    "slideshow": {
     "slide_type": "slide"
    }
   },
   "source": [
    "## <img src=\"https://img.icons8.com/cotton/64/000000/artificial-intelligence.png\" style=\"height:50px;display:inline\"> Scikit-Learn\n",
    "---\n",
    "Scikit-learn is an open source machine learning library for Python.  \n",
    " - **Simple and efficient** tools for data mining and data analysis\n",
    " - Good coverage of machine learning algorithms, processes, tools and techniques\n",
    "   - Classification, Regression, Clustering, Dimensionality Reduction, Model selection, Preprocessing\n",
    " - **High standards** \n",
    " - Well-suited for applications:\n",
    "   - Used for **large datasets**\n",
    "   - **Building blocks** for application-specific algorithms\n",
    " - Built on **NumPy, SciPy**\n",
    " - **Open source**, Commercially usable - BSD license, Community driven\n",
    "\n",
    "Data Representation in Scikit-learn:\n",
    " - Most algorithms expect a two-dimensional array, of shape (n_samples,n_features).\n",
    " - The arrays can be either NumPy arrays, or in some cases scipy.sparse matrices.\n",
    "   - The number of features must be fixed in advance.\n",
    "   \n",
    "Design principles\n",
    " - Minimize number of object interfaces\n",
    " - Build abstractions for recurrent use cases\n",
    " - Simplicity, Simplicity, Simplicity\n",
    " \n",
    "Code samples:\n",
    "> \n",
    "``from sklearn import svm\n",
    "clf = svm.SVC()\n",
    "clf.fit(X_train, y_train)\n",
    "y_pred = clf.predict(X_test)``\n",
    "\n",
    "Classification:\n",
    ">``y_pred = model.predict(X_test)``\n",
    "\n",
    "Filters, dimension reduction, latent variables:\n",
    ">``X_new = model.transform(X_test)``\n",
    "\n",
    "Incremental learning:\n",
    ">``model.partial_fir(X_train, y_train)``\n",
    "\n",
    "---\n",
    "\n",
    "The [scikit-learn website](http://scikit-learn.org/stable/) has great tutorials for using their library  \n",
    "---\n",
    "The [preprocessing](http://scikit-learn.org/stable/modules/preprocessing.html#preprocessing) page has information that is very relevant for the second exercise.\n",
    "\n",
    "A more interfactive tutorial introducing scikit-learn can be found [here](https://www.datacamp.com/community/tutorials/machine-learning-python#gs.Ae7Ua_Y)."
   ]
  },
  {
   "cell_type": "markdown",
   "metadata": {
    "slideshow": {
     "slide_type": "slide"
    }
   },
   "source": [
    "### Example - The Digits Dataset\n",
    "(Taken from https://scikit-learn.org/stable/tutorial/basic/tutorial.html)\n",
    "\n",
    "#### Loading the Data\n",
    "A dataset is a dictionary-like object that holds all the data and some metadata about the data. This data is stored in the `.data` member, which is a `n_samples, n_features` array. In the case of supervised problem, one or more response variables are stored in the `.target` member. More details on the different datasets can be found in the dedicated section."
   ]
  },
  {
   "cell_type": "code",
   "execution_count": null,
   "metadata": {
    "slideshow": {
     "slide_type": "subslide"
    }
   },
   "outputs": [],
   "source": [
    "# import dataset\n",
    "from sklearn import datasets\n",
    "digits = datasets.load_digits()"
   ]
  },
  {
   "cell_type": "markdown",
   "metadata": {
    "slideshow": {
     "slide_type": "slide"
    }
   },
   "source": [
    "For instance, in the case of the digits dataset, `digits.data` gives access to the features that can be used to classify the digits samples:"
   ]
  },
  {
   "cell_type": "code",
   "execution_count": null,
   "metadata": {
    "slideshow": {
     "slide_type": "subslide"
    }
   },
   "outputs": [],
   "source": [
    "print(digits.data)"
   ]
  },
  {
   "cell_type": "markdown",
   "metadata": {
    "slideshow": {
     "slide_type": "subslide"
    }
   },
   "source": [
    "and `digits.target` gives the ground truth for the digit dataset, that is the number corresponding to each digit image that we are trying to learn:"
   ]
  },
  {
   "cell_type": "code",
   "execution_count": null,
   "metadata": {
    "slideshow": {
     "slide_type": "subslide"
    }
   },
   "outputs": [],
   "source": [
    "print(digits.target)"
   ]
  },
  {
   "cell_type": "markdown",
   "metadata": {
    "slideshow": {
     "slide_type": "subslide"
    }
   },
   "source": [
    "Shape of the data arrays\n",
    "\n",
    "The data is always a 2D array, shape `(n_samples, n_features)`, although the original data may have had a different shape. In the case of the digits, each original sample is an image of shape `(8, 8)` and can be accessed using: `digits.images`"
   ]
  },
  {
   "cell_type": "code",
   "execution_count": null,
   "metadata": {
    "slideshow": {
     "slide_type": "subslide"
    }
   },
   "outputs": [],
   "source": [
    "fig = plt.figure(figsize=(8, 5)) # create a figure, just like in matlab\n",
    "ax = fig.add_subplot(1, 1 ,1) # create a subplot of certain size\n",
    "ax.imshow(digits.images[0], cmap='gray')\n",
    "ax.set_title(\"digits.image[0]\")"
   ]
  },
  {
   "cell_type": "markdown",
   "metadata": {
    "slideshow": {
     "slide_type": "slide"
    }
   },
   "source": [
    "#### Learning and Predicting\n",
    "\n",
    "In the case of the digits dataset, the task is to predict, given an image, which digit it represents. We are given samples of each of the 10 possible classes (the digits zero through nine) on which we fit an estimator to be able to predict the classes to which unseen samples belong.\n",
    "\n",
    "In scikit-learn, an estimator for classification is a Python object that implements the methods `fit(X, y)` and `predict(T)`."
   ]
  },
  {
   "cell_type": "code",
   "execution_count": null,
   "metadata": {
    "scrolled": true,
    "slideshow": {
     "slide_type": "subslide"
    }
   },
   "outputs": [],
   "source": [
    "from sklearn.model_selection import train_test_split\n",
    "# split to train and test sets\n",
    "X_train, X_test, y_train, y_test = train_test_split(digits.data, digits.target, test_size=0.2)\n",
    "# fit a Naive Bayes Classifier\n",
    "from sklearn.naive_bayes import GaussianNB\n",
    "clf = GaussianNB()\n",
    "# train\n",
    "clf.fit(X_train, y_train)\n",
    "# predict\n",
    "y_pred = clf.predict(X_test)\n",
    "# cacluclate accuracy\n",
    "print(\"prediction accuracy: {:.3f}%\".format(np.mean(y_pred == y_test) * 100))"
   ]
  },
  {
   "cell_type": "markdown",
   "metadata": {
    "slideshow": {
     "slide_type": "slide"
    }
   },
   "source": [
    "### <img src=\"https://img.icons8.com/color/96/000000/deadlift.png\" style=\"height:50px;display:inline\"> Exercise 5\n",
    "---\n",
    "\n",
    "Build a Multinomial Logistic Regression (Softmax) classifier using `LogisticRegression()` class from `sklearn` and check the accuracy."
   ]
  },
  {
   "cell_type": "code",
   "execution_count": null,
   "metadata": {
    "slideshow": {
     "slide_type": "subslide"
    }
   },
   "outputs": [],
   "source": [
    "from sklearn.linear_model import LogisticRegression\n",
    "\n",
    "# split to train and test sets\n",
    "X_train, X_test, y_train, y_test = train_test_split(digits.data, digits.target, test_size=0.2)\n",
    "\n",
    "\"\"\"\n",
    "Your Code Here\n",
    "\"\"\""
   ]
  },
  {
   "cell_type": "markdown",
   "metadata": {
    "slideshow": {
     "slide_type": "slide"
    }
   },
   "source": [
    "### <img src=\"https://img.icons8.com/clouds/100/000000/money.png\" style=\"height:50px;display:inline\"> Part 3 - Money Time\n",
    "---\n",
    "You are now going to implement an algorithm on your own and compare its results to the implementation of Scikit-Learn.\n",
    "\n",
    "1. Implement Mini-Batch Gradient Descent for Linear Regression with Ridge regresssion regularization ($L_2$).\n",
    "2. Load the \"Breast Cancer\" dataset and display 10 samples from this dataset.\n",
    "3. Use the the fields: `radius_mean, area_mean` as features ($X$) and `perimeter_mean` as targets ($y$).\n",
    "3. Split the data to train-valid-test (80-10-10).\n",
    "4. Pre-process the train data.\n",
    "5. Use the MSE on the validation set as stopping criterion and train the Ridge regression (using your own implementation) model.\n",
    "6. Plot (3D) the resulting solution and print the train, valdiation and test errors.\n",
    "7. Train a Ridge regression model using `sklearn` (on the same split). Compare the results with your implementation. Are there any differences? What may cause them? \n",
    "\n",
    "**You can add as many code cells as you need**."
   ]
  },
  {
   "cell_type": "code",
   "execution_count": null,
   "metadata": {},
   "outputs": [],
   "source": [
    "# helper functions\n",
    "\n",
    "def plot_3d_lls(x, y, z, lls_sol, title=\"\"):\n",
    "    # plot\n",
    "    fig = plt.figure(figsize=(5, 5))\n",
    "    ax = fig.add_subplot(111, projection='3d')\n",
    "    ax.scatter(x, y, z, label='Y')\n",
    "    ax.scatter(x, y, lls_sol, label='Xw')\n",
    "    ax.legend()\n",
    "    ax.set_xlabel('Radius Mean')\n",
    "    ax.set_ylabel('Area Mean')\n",
    "    ax.set_zlabel('Perimeter Mean')\n",
    "    ax.set_title(title)\n",
    "    \n",
    "    \n",
    "def batch_generator(x, y, batch_size, shuffle=True):\n",
    "    \"\"\"\n",
    "    This function generates batches for a given dataset x.\n",
    "    \"\"\"\n",
    "    N, L = x.shape\n",
    "    num_batches = N // batch_size\n",
    "    batch_x = []\n",
    "    batch_y = []\n",
    "    if shuffle:\n",
    "        # shuffle\n",
    "        rand_gen = np.random.RandomState(0)\n",
    "        shuffled_indices = rand_gen.permutation(np.arange(N))\n",
    "        x = x[shuffled_indices, :]\n",
    "        y = y[shuffled_indices, :]\n",
    "    for i in range(N):\n",
    "        batch_x.append(x[i, :])\n",
    "        batch_y.append(y[i, :])\n",
    "        if len(batch_x) == batch_size:\n",
    "            yield np.array(batch_x).reshape(batch_size, L), np.array(batch_y).reshape(batch_size, 1)\n",
    "            batch_x = []\n",
    "            batch_y = []\n",
    "    if batch_x:\n",
    "        yield np.array(batch_x).reshape(-1, L), np.array(batch_y).reshape(-1, 1)"
   ]
  },
  {
   "cell_type": "code",
   "execution_count": null,
   "metadata": {
    "scrolled": true,
    "slideshow": {
     "slide_type": "subslide"
    }
   },
   "outputs": [],
   "source": [
    "\"\"\"\n",
    "Your Code Here\n",
    "\"\"\""
   ]
  },
  {
   "cell_type": "markdown",
   "metadata": {
    "slideshow": {
     "slide_type": "skip"
    }
   },
   "source": [
    "## <img src=\"https://img.icons8.com/dusk/64/000000/prize.png\" style=\"height:50px;display:inline\"> Credits\n",
    "---\n",
    "* Icons made by <a href=\"https://www.flaticon.com/authors/becris\" title=\"Becris\">Becris</a> from <a href=\"https://www.flaticon.com/\" title=\"Flaticon\">www.flaticon.com</a>\n",
    "* Icons from <a href=\"https://icons8.com/\">Icons8.com</a> - https://icons8.com\n",
    "* Datasets from <a href=\"https://www.kaggle.com/\">Kaggle</a> - https://www.kaggle.com/\n",
    "* 6.819/6.869: Advances in Computer Vision, MIT CSAIL, Julie Ganeshan (MIT).\n",
    "* <a href=\"http://cs231n.github.io/python-numpy-tutorial/\">Python Numpy Tutorial</a> - CS231n Convolutional Neural Networks for Visual Recognition, Justin Johnson."
   ]
  }
 ],
 "metadata": {
  "kernelspec": {
   "display_name": "Python 3 (ipykernel)",
   "language": "python",
   "name": "python3"
  },
  "language_info": {
   "codemirror_mode": {
    "name": "ipython",
    "version": 3
   },
   "file_extension": ".py",
   "mimetype": "text/x-python",
   "name": "python",
   "nbconvert_exporter": "python",
   "pygments_lexer": "ipython3",
   "version": "3.8.18"
  }
 },
 "nbformat": 4,
 "nbformat_minor": 4
}
