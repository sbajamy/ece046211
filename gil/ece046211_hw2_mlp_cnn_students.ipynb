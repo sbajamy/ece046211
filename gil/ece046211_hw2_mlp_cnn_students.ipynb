{
  "cells": [
    {
      "cell_type": "markdown",
      "metadata": {
        "id": "dzV9wsJ5pGhf"
      },
      "source": [
        "# <img src=\"https://img.icons8.com/bubbles/50/000000/mind-map.png\" style=\"height:50px;display:inline\"> ECE 046211 - Technion - Deep Learning\n",
        "---\n",
        "\n",
        "## HW2 - Multilayer NNs and Convolutional NNs\n",
        "---"
      ]
    },
    {
      "cell_type": "markdown",
      "metadata": {
        "id": "bq2c8X93pGhh"
      },
      "source": [
        "### <img src=\"https://img.icons8.com/clouds/96/000000/keyboard.png\" style=\"height:50px;display:inline\"> Keyboard Shortcuts\n",
        "---\n",
        "* Run current cell: **Ctrl + Enter**\n",
        "* Run current cell and move to the next: **Shift + Enter**\n",
        "* Show lines in a code cell: **Esc + L**\n",
        "* View function documentation: **Shift + Tab** inside the parenthesis or `help(name_of_module)`\n",
        "* New cell below: **Esc + B**\n",
        "* Delete cell: **Esc + D, D** (two D's)"
      ]
    },
    {
      "cell_type": "markdown",
      "metadata": {
        "id": "vZZybn3NpGhh"
      },
      "source": [
        "### <img src=\"https://img.icons8.com/bubbles/50/000000/information.png\" style=\"height:50px;display:inline\"> Students Information\n",
        "---\n",
        "* Fill in\n",
        "\n",
        "|Name     |Campus Email| ID  |\n",
        "|---------|--------------------------------|----------|\n",
        "|Student 1| student_1@campus.technion.ac.il| 123456789|\n",
        "|Student 2| student_2@campus.technion.ac.il| 987654321|\n"
      ]
    },
    {
      "cell_type": "markdown",
      "metadata": {
        "id": "dDK5zqhdpGhi"
      },
      "source": [
        "### <img src=\"https://img.icons8.com/bubbles/50/000000/upload-to-cloud.png\" style=\"height:50px;display:inline\"> Submission Guidelines\n",
        "---\n",
        "* Maximal garde: 100.\n",
        "* Submission only in **pairs**.\n",
        "    * Please make sure you have registered your group in Moodle (there is a group creation component on the Moodle where you need to create your group and assign members).\n",
        "* **No handwritten submissions.** You can choose whether to answer in a Markdown cell in this notebook or attach a PDF with your answers.\n",
        "* <a style='color:red'> SAVE THE NOTEBOOKS WITH THE OUTPUT, CODE CELLS THAT WERE NOT RUN WILL NOT GET ANY POINTS! </a>\n",
        "* What you have to submit:\n",
        "    * If you have answered the questions in the notebook, you should submit this file only, with the name: `ece046211_hw2_id1_id2.ipynb`.\n",
        "    * If you answered the questions in a different file you should submit a `.zip` file with the name `ece046211_hw2_id1_id2.zip` with content:\n",
        "        * `ece046211_hw2_id1_id2.ipynb` - the code tasks\n",
        "        * `ece046211_hw2_id1_id2.pdf` - answers to questions.\n",
        "    * No other file-types (`.py`, `.docx`...) will be accepted.\n",
        "* Submission on the course website (Moodle).\n",
        "* **Latex in Colab** - in some cases, Latex equations may no be rendered. To avoid this, make sure to not use *bullets* in your answers (\"* some text here with Latex equations\" -> \"some text here with Latex equations\")."
      ]
    },
    {
      "cell_type": "markdown",
      "metadata": {
        "id": "pmSj_UufpGhi"
      },
      "source": [
        "### <img src=\"https://img.icons8.com/dusk/64/000000/online.png\" style=\"height:50px;display:inline\"> Working Online and Locally\n",
        "---\n",
        "* You can choose your working environment:\n",
        "    1. `Jupyter Notebook`, **locally** with <a href=\"https://www.anaconda.com/distribution/\">Anaconda</a> or **online** on <a href=\"https://colab.research.google.com/\">Google Colab</a>\n",
        "        * Colab also supports running code on GPU, so if you don't have one, Colab is the way to go. To enable GPU on Colab, in the menu: `Runtime`$\\rightarrow$ `Change Runtime Type` $\\rightarrow$`GPU`.\n",
        "    2. Python IDE such as <a href=\"https://www.jetbrains.com/pycharm/\">PyCharm</a> or <a href=\"https://code.visualstudio.com/\">Visual Studio Code</a>.\n",
        "        * Both allow editing and running Jupyter Notebooks.\n",
        "\n",
        "* Please refer to `Setting Up the Working Environment.pdf` on the Moodle or our GitHub (https://github.com/taldatech/ee046211-deep-learning) to help you get everything installed.\n",
        "* If you need any technical assistance, please go to our Piazza forum (`hw2` folder) and describe your problem (preferably with images)."
      ]
    },
    {
      "cell_type": "markdown",
      "metadata": {
        "id": "nlp1Fp4ppGhj"
      },
      "source": [
        "### <img src=\"https://img.icons8.com/bubbles/50/000000/checklist.png\" style=\"height:50px;display:inline\"> Agenda\n",
        "---\n",
        "\n",
        "* [Part 1 - Theory](#-Part-1---Theory)\n",
        "    * [Q1 - Generalization in A Teacher-Student Setup](#-Question-1--Generalization-in-A-Teacher-Student-Setup)\n",
        "    * [Q2 - \"Typical\" Generalization in Multilayer Neural Networks](#-Question-2---\"Typical\"-Generalization-in-Multilayer-Neural-Networks)\n",
        "    * [Q3 - Deep Double Descent](#-Question-3---Deep-Double-Descent)\n",
        "    * [Q4 - Initialization](#-Question-4---Initialization)\n",
        "    * [Q5 - Equivariance](#-Question-5---Equivariance)\n",
        "    * [Q6 - VGG Architecture](#-Question-6--VGG-Architecture)\n",
        "* [Part 2 - Code Assignments](#-Part-2---Code-Assignments)\n",
        "    * [Task 1 - The Importance of Activation and Initialization](#-Task-1---The-Importance-of-Activation-and-Initialization)\n",
        "    * [Task 2 - MLP-based Deep Classifer](#-Task-2---MLP-based-Deep-Classifer)\n",
        "    * [Task 3 - Design a CNN](#-Task-3---Design-a-CNN)\n",
        "* [Credits](#-Credits)"
      ]
    },
    {
      "cell_type": "markdown",
      "metadata": {
        "id": "XKtSiQX_pGhj"
      },
      "source": [
        "### <img src=\"https://img.icons8.com/cute-clipart/64/000000/ball-point-pen.png\" style=\"height:50px;display:inline\"> Part 1 - Theory\n",
        "---\n",
        "* You can choose whether to answser these straight in the notebook (Markdown + Latex) or use another editor (Word, LyX, Latex, Overleaf...) and submit an additional PDF file, **but no handwritten submissions**.\n",
        "* You can attach additional figures (drawings, graphs,...) in a separate PDF file, just make sure to refer to them in your answers.\n",
        "\n",
        "* $\\large\\LaTeX$ <a href=\"https://kapeli.com/cheat_sheets/LaTeX_Math_Symbols.docset/Contents/Resources/Documents/index\">Cheat-Sheet</a> (to write equations)\n",
        "    * <a href=\"http://tug.ctan.org/info/latex-refsheet/LaTeX_RefSheet.pdf\">Another Cheat-Sheet</a>"
      ]
    },
    {
      "cell_type": "markdown",
      "metadata": {
        "id": "RsqSFZG1pGhj"
      },
      "source": [
        "## <img src=\"https://img.icons8.com/clouds/100/000000/question-mark.png\" style=\"height:50px;display:inline\"> Question 1 -Generalization in A Teacher-Student Setup\n",
        "---\n",
        "\n",
        "Recall from lecture 4 the Bayes Risk $\\mathcal{\\overline{R}}(w)$: $$ \\mathcal{\\overline{R}}(w) \\triangleq \\mathbb{E}_{\\epsilon \\sim \\mathcal{N}(0, \\sigma_{\\epsilon}^2I), w_{true} \\sim \\mathcal{N}(0,\\frac{\\sigma_w^2}{d}I) } \\left[\\mathcal{R}\\right], $$ where, $$ \\mathcal{R}(w_{\\mu}) = ||w_{\\mu}-w_{true}||^2 = ||(H_{\\mu}^{-1}H-I)w_{true} + H_{\\mu}^{-1}X^T\\epsilon||^2 $$\n",
        "\n",
        "Prove:\n",
        "\n",
        "$$ \\overline{\\mathcal{R}}(w_{\\mu}) = \\sum_{i=1}^d \\frac{(\\sigma_w^2/d) \\mu^2 + \\sigma_{\\epsilon}^2 \\lambda_i}{(\\lambda_i + \\mu)^2} $$\n",
        "\n",
        "Hints:\n",
        "* $\\mathbb{E} \\left[\\epsilon^TXH_{\\mu}^{-1}H_{\\mu}^{-1}X^T\\epsilon \\right] = \\sum_{i,j}^N\\mathbb{E}[\\epsilon_i \\epsilon_j] \\left(XH_{\\mu}^{-1} \\right)_i\\left(H_{\\mu}^{-1}X^T \\right)_j$\n",
        "\n",
        "* $\\mathbb{E}[\\epsilon_i \\epsilon_j] = \\sigma_{\\epsilon}^2 \\delta_{ij}$\n",
        "\n",
        "* $\\sum_{i=1}^N \\left(XH_{\\mu}^{-1} \\right)_i\\left(H_{\\mu}^{-1}X^T \\right)_i = Tr\\left[XH_{\\mu}^{-2}X^T \\right] $"
      ]
    },
    {
      "cell_type": "markdown",
      "source": [
        "**Proof:**\n",
        "\n",
        "We will define:\n",
        "$$\n",
        "A = H_\\mu^{-1}H-I\\\\\n",
        "B=H_\\mu^{-1}X^T\n",
        "$$\n",
        "Thus our risk function is:\n",
        "\\begin{align}\n",
        "\\mathcal{R}(w_{\\mu}) &= ||(H_{\\mu}^{-1}H-I)w_{true} + H_{\\mu}^{-1}X^T\\epsilon||^2\\\\\n",
        "&= ||Aw_{true} + B\\epsilon||^2 \\\\\n",
        "&= (Aw_{true} + B\\epsilon)^T(Aw_{true} + B\\epsilon)\\\\\n",
        "&= ((Aw_{true})^T + (B\\epsilon)^T)(Aw_{true} + B\\epsilon)\\\\\n",
        "&= (w_{true}^TA^T + \\epsilon^TB^T)(Aw_{true} + B\\epsilon)\\\\\n",
        "&= w_{true}^TA^TAw_{true}+ w_{true}^TA^TB\\epsilon+\\epsilon^TB^TAw_{true}+\\epsilon^TB^TB\\epsilon\n",
        "\\end{align}\n",
        "Notice that $A,B$ constants to the expected value operator. Thus:\n",
        "\\begin{align}\n",
        "\\mathbb{E}[w_{true}^TA^TB\\epsilon] = \\mathbb{E}[w_{true}^T]Tr(A^TB)\\mathbb{E}[\\epsilon] \\underset{\\epsilon \\sim \\mathcal{N}(0, \\sigma_{\\epsilon}^2I), w_{true} \\sim \\mathcal{N}(0,\\frac{\\sigma_w^2}{d}I)}{=} 0\n",
        "\\end{align}\n",
        "Same applies to $\\mathbb{E}[\\epsilon^TB^TAw_{true}] = 0$.\n",
        "\\begin{align}\n",
        "\\mathbb{E}[\\epsilon^TB^TB\\epsilon] &= \\mathbb{E}[\\epsilon^T(H_\\mu^{-1}X^T)^TH_\\mu^{-1}X^T\\epsilon]\\\\\n",
        "&\\underset{H_\\mu = H_\\mu^T}{=} \\mathbb{E}[\\epsilon^TXH_\\mu^{-1}H_\\mu^{-1}X^T\\epsilon]\\\\\n",
        "&= \\sum_{i,j}^N\\mathbb{E}[\\epsilon_i \\epsilon_j] \\left(XH_{\\mu}^{-1} \\right)_i\\left(H_{\\mu}^{-1}X^T \\right)_j \\\\\n",
        "&= \\sum_{i,j}^N\\sigma_{\\epsilon}^2 \\delta_{ij} \\left(XH_{\\mu}^{-1} \\right)_i\\left(H_{\\mu}^{-1}X^T \\right)_j \\\\\n",
        "&= \\sigma_{\\epsilon}^2\\sum_{i=1}^N \\left(XH_{\\mu}^{-1} \\right)_i\\left(H_{\\mu}^{-1}X^T \\right)_i\\\\\n",
        "&= \\sigma_{\\epsilon}^2Tr\\left[XH_{\\mu}^{-2}X^T \\right]\n",
        "\\end{align}\n",
        "\\begin{align}\n",
        "\\mathbb{E}[w_{true}^TA^TAw_{true}] &= \\mathbb{E}[w_{true}^TA^TAw_{true}] \\\\\n",
        "&= \\sum_{i,j}^N\\mathbb{E}[w_{true_i} w_{true_j}] \\left(A^T \\right)_i\\left(A \\right)_j \\\\\n",
        "&= \\frac{\\sigma^2_w}{d}Tr(A^TA)\n",
        "\\end{align}\n",
        "We notice that since $H_\\mu = H+\\mu I$, while $H$ is diagonal (It's a symmetric matrix). Thus $H= U\\Lambda U^T$, where $\\Lambda$ is a diagonal matrix with the eigenvalues on the diagonal.\n",
        "And $U$ is the orthogonal matrix.\n",
        "Therefor:\n",
        "\\begin{align}\n",
        "A &= H_\\mu^{-1}H-I \\\\ &= (H+\\mu I)^{-1}H-I\\\\ &= (U\\Lambda U^T +\\mu I)^{-1}(U\\Lambda U^T)-I\\\\\n",
        "&= (U(\\Lambda +\\mu I)U^T)^{-1}U\\Lambda U^T-I\n",
        "\\\\&\\overset{(*)}{=}\n",
        "\\end{align}\n",
        "Notice that $$U(\\Lambda +\\mu I)U^TU(\\Lambda +\\mu I)^{-1}U^T= I$$\n",
        "Thus, $$(U(\\Lambda +\\mu I)U^T)^{-1} = U(\\Lambda +\\mu I)^{-1}U^T$$\n",
        "\\begin{align}\n",
        "⇒&\\overset{(*)}{=} U(\\Lambda +\\mu I)^{-1}U^TU\\Lambda U^T-I \\\\\n",
        "&= U(\\Lambda +\\mu I)^{-1}\\Lambda U^T-I \\\\\n",
        "&= U((\\Lambda +\\mu I)^{-1}\\Lambda - I)U^T\n",
        "\\end{align}\n",
        "\\begin{align}\n",
        "Tr(A^TA) &= Tr[(U((\\Lambda +\\mu I)^{-1}\\Lambda - I)U^T)^TU((\\Lambda +\\mu I)^{-1}\\Lambda - I)U^T]\\\\\n",
        "&= Tr[U((\\Lambda +\\mu I)^{-1}\\Lambda - I)^TU^TU((\\Lambda +\\mu I)^{-1}\\Lambda - I)U^T]\\\\\n",
        "&= Tr[U((\\Lambda +\\mu I)^{-1}\\Lambda - I)^T((\\Lambda +\\mu I)^{-1}\\Lambda - I)U^T]\\\\\n",
        "&\\underset{\\text{Trace operator is invariant to cyclic shifts}}{=} Tr[((\\Lambda +\\mu I)^{-1}\\Lambda - I)^T((\\Lambda +\\mu I)^{-1}\\Lambda - I)U^TU]\\\\\n",
        "&\\underset{U^TU=I}{=} Tr[((\\Lambda +\\mu I)^{-1}\\Lambda - I)^T((\\Lambda +\\mu I)^{-1}\\Lambda - I)]\\\\\n",
        "&\\underset{\\Lambda\\text{ is a diagonal eigenvalues matrix}}{=} Tr[(\\Lambda((\\Lambda +\\mu I)^{-1})^T - I)((\\Lambda +\\mu I)^{-1}\\Lambda - I)]\\\\\n",
        "&= Tr[(\\Lambda((\\Lambda +\\mu I)^T)^{-1} - I)((\\Lambda +\\mu I)^{-1}\\Lambda - I)]\\\\\n",
        "&= Tr[(\\Lambda((\\Lambda +\\mu I))^{-1} - I)((\\Lambda +\\mu I)^{-1}\\Lambda - I)]\\\\\n",
        "&= Tr[((\\Lambda +\\mu I)^{-1}\\Lambda - I)^2]\\\\\n",
        "&= \\sum^d_{i=1}(\\frac{\\lambda_i}{\\lambda_i + \\mu}-1)^2\\\\\n",
        "&= \\sum^d_{i=1}\\frac{\\mu^2}{(\\lambda_i + \\mu)^2}\n",
        "\\end{align}\n",
        "And as well:\n",
        "\\begin{align}\n",
        "Tr\\left[XH_{\\mu}^{-2}X^T \\right] &= Tr\\left[X(H+\\mu I)^{-2}X^T \\right]\\\\\n",
        "&= Tr\\left[X(U\\Lambda U^T+\\mu I)^{-2}X^T \\right]\\\\\n",
        "&= Tr\\left[XU(\\Lambda +\\mu I)^{-2}U^TX^T \\right]\\\\\n",
        "&\\underset{\\text{Trace operator is invariant to cyclic shifts}}{=}  Tr\\left[U(\\Lambda +\\mu I)^{-2}U^TX^TX \\right]\\\\\n",
        "&\\underset{H≜X^TX}{=} Tr\\left[U(\\Lambda +\\mu I)^{-2}U^TH \\right]\\\\\n",
        "&= Tr\\left[U(\\Lambda +\\mu I)^{-2}U^TU\\Lambda U^T \\right]\\\\\n",
        "&= Tr\\left[U(\\Lambda +\\mu I)^{-2}\\Lambda U^T \\right]\\\\\n",
        "&= Tr\\left[(\\Lambda +\\mu I)^{-2}\\Lambda U^TU \\right]\\\\\n",
        "&= Tr\\left[(\\Lambda +\\mu I)^{-2}\\Lambda \\right]\\\\\n",
        "&\\underset{\\Lambda \\text{ is a diagonal eigenvalues matrix}}{=} \\sum^d_{i=1} \\frac{\\lambda_i}{(\\lambda_i + \\mu)^2}\n",
        "\\end{align}\n",
        "⇒ \\begin{align}\\overline{\\mathcal{R}}(w_{\\mu}) &= \\mathbb{E}[w_{true}^TA^TAw_{true}+ w_{true}^TA^TB\\epsilon+\\epsilon^TB^TAw_{true}+\\epsilon^TB^TB\\epsilon] \\\\\n",
        "&= \\mathbb{E}[w_{true}^TA^TAw_{true}]+\\mathbb{E}[w_{true}^TA^TB\\epsilon]+\\mathbb{E}[+\\epsilon^TB^TAw_{true}]+\\mathbb{E}[\\epsilon^TB^TB\\epsilon]\\\\\n",
        "&= \\frac{\\sigma^2_w}{d}Tr(A^TA)+0+0+\\sigma_{\\epsilon}^2Tr\\left[XH_{\\mu}^{-2}X^T \\right]\\\\\n",
        "&= \\frac{\\sigma^2_w}{d}\\sum^d_{i=1}\\frac{\\mu^2}{(\\lambda_i + \\mu)^2}+\\sigma_{\\epsilon}^2 \\sum^d_{i=1}\\frac{\\lambda_i}{(\\lambda_i + \\mu)^2}\\\\\n",
        "&= \\sum_{i=1}^d \\frac{(\\sigma_w^2/d) \\mu^2 + \\sigma_{\\epsilon}^2 \\lambda_i}{(\\lambda_i + \\mu)^2}\\\\\n",
        "&\\blacksquare\n",
        "\\end{align}"
      ],
      "metadata": {
        "id": "rzI0pvdCiKdy"
      }
    },
    {
      "cell_type": "markdown",
      "metadata": {
        "id": "Cc3uROsWhEbz"
      },
      "source": [
        "## <img src=\"https://img.icons8.com/clouds/100/000000/question-mark.png\" style=\"height:50px;display:inline\"> Question 2 - \"Typical\" Generalization in Multilayer Neural Networks\n",
        "---\n",
        "\n",
        "\n",
        "We examine a \"student\" neural network  $f_{\\mathbf{w}}\\left(\\mathbf{x}\\right)$ with parameter vector $\\mathbf{w}\\in\\mathbb{R}^{k}$ and input $\\mathbf{x}\\in\\mathbb{R}^{d_{0}}$  used in a binary classification problem where the training set is $\\mathcal{S}=\\left\\{ \\mathbf{x}^{\\left(n\\right)}\\right\\} _{n=1}^{N}$ sampled i.i.d. from $P_{X}$, where the binary $\\left(\\pm1\\right)$ labels are generated by a \"teacher\" neural network $f_{\\mathbf{w}_{\\star}}\\left(\\mathbf{x}\\right)$ with the same architecture. To understand the \"typical\" generalization of the student, we examine the following \"Guess and Check\" algorithm to learn its weights: we randomly sample parameters vectors $\\mathbf{w}_{1},\\mathbf{w}_{2},...$ i.i.d.from $P_{W}$, in which each parameter is sampled independently from a uniform distribution over $Q=\\left\\{ -\\left(q-1\\right)/2,\\dots,-1,0,1,\\dots,\\left(q-1\\right)/2\\right\\} $ quantization levels, where $q=\\left|Q\\right|$ is an odd positive number. We do this until a stopping time $t$ in which we perfectly fit the dataset: $\\forall n:f_{\\mathbf{w}_{t}}\\left(\\mathbf{x}^{\\left(n\\right)}\\right)=f_{\\mathbf{w}_{\\star}}\\left(\\mathbf{x}^{\\left(n\\right)}\\right)$. We examine a two-layer neural network with $d_{1}$ hidden neurons\n",
        "$$\n",
        "f_{\\mathbf{w}}\\left(\\mathbf{x}\\right)=\\mathrm{sign}\\left(\\mathbf{w}_{2}^{\\top}\\left[\\mathbf{W}_{1}\\mathbf{x}\\right]_{+}\\right)\n",
        "$$\n",
        "where $\\left[\\cdot\\right]_{+}$ is the ReLU activation function, the teacher has at most $d_{1}^{\\star}<d_{1}$ non-zero neurons (i.e., the other $d_{1}-d_{1}^{\\star}$ hidden neurons in the teacher to have all the incoming and outgoing weights equal to zero). Each of the teacher's weights are also in $Q$.\n",
        "\n",
        "1. Calculate the probability $P_{\\mathbf{w}\\sim P_{W}}\\left(\\mathbf{w}=\\mathbf{w}_{\\star}\\right).$\n",
        "2. Prove that \\begin{equation}\n",
        "(1) \\:\\:p_{\\star}\\triangleq P_{\\mathbf{w}\\sim P_{W}}\\left(\\forall\\mathbf{x}:f_{\\mathbf{w}}\\left(\\mathbf{x}\\right)=f_{\\mathbf{w}_{\\star}}\\left(\\mathbf{x}\\right)\\right)\\geq q^{-d_{0}d_{1}^{*}-d_{1}}\\,.\n",
        "\\end{equation}\n",
        "3. Show that for any constant $T>0$, we can bound the probability of stopping time $t>T$ as \\begin{equation} (2) \\:\\:\n",
        "\\left\\lfloor T\\right\\rfloor \\leq\\frac{\\log P\\left(t>T\\right)}{\\log\\left(1-p_{\\star}\\right)}\\,.\n",
        "\\end{equation}\n",
        "4. Prove the generalization bound:<br>\n",
        "   **Theorem 1** *With probability* $\\left(1-\\eta\\right)\\left(1-\\delta\\right)$, \\begin{equation}(3) \\:\\:\n",
        "\\epsilon<\\frac{\\left(d_{0}d_{1}^{\\star}+d_{1}\\right)\\log q+\\log\\frac{1}{\\delta}+\\log\\log\\frac{1}{\\eta}}{N}\n",
        "\\end{equation} **Hint**: Combine the results from previous sections, using the approximations $\\left\\lfloor T\\right\\rfloor \\approx T$ and $\\log\\left(1-p_{\\star}\\right)\\approx-p_{\\star}$ (treat these approximations as exact), and the following basic generalization\n",
        " bound (which we learned in class):<br>\n",
        "     **Theorem 2** *For any* $f\\in\\left|\\mathcal{F}\\right|$ $f\\in\\left|\\mathcal{F}\\right|$, *with probability* $1-\\delta$, \\begin{equation} (4) \\:\\:\n",
        "\\epsilon\\triangleq\\mathbb{P}_{\\mathbf{x}}\\left(f_{\\mathbf{w}}\\left(\\mathbf{x}\\right)\\neq f_{\\mathbf{w}_{\\star}}\\left(\\mathbf{x}\\right)\\right)<\\frac{\\log\\left|\\mathcal{F}\\right|+\\log\\frac{1}{\\delta}}{N}\\,.\n",
        "\\end{equation}\n",
        "5. Is the bound in eq. $(3)$ better than the bound in eq. $(4)$ in which $\\mathcal{F}=\\left\\{ f_{\\mathbf{w}}:\\mathbf{w}\\in Q^{k}\\right\\} $  is the student hypothesis class (in which each parameter can have one of $q$ values)? Explain and ignore the (negligble) $\\log\\log\\frac{1}{\\eta}$ term."
      ]
    },
    {
      "cell_type": "markdown",
      "metadata": {
        "id": "zPVXYZVqhEb0"
      },
      "source": [
        "## <img src=\"https://img.icons8.com/clouds/100/000000/question-mark.png\" style=\"height:50px;display:inline\"> Question 3 - Deep Double Descent\n",
        "---\n",
        "\n",
        "For the following plots:\n",
        "1. Where is the critical point (the point of transition between the \"Classical Regime\" and \"Modern Regime\") of the deep double descent?\n",
        "2. What type of double descent is shown (**look closely at the graph**)? Explain. There can be more than one correct answer.\n",
        "    \n",
        "\n",
        "a. <img src='https://raw.githubusercontent.com/taldatech/ee046211-deep-learning/main/assets/double_descent_transformer.PNG' style=\"height:300px\">\n",
        "\n",
        "b. <img src='https://raw.githubusercontent.com/taldatech/ee046211-deep-learning/main/assets/double_descent_resnet.PNG' style=\"height:400px\">\n",
        "\n",
        "c. <img src='https://raw.githubusercontent.com/taldatech/ee046211-deep-learning/main/assets/double_descent_intermediate.PNG' style=\"height:300px\">"
      ]
    },
    {
      "cell_type": "markdown",
      "source": [
        "**1)**\n",
        "We will see the critical point in a Test/Train Error graph,\n",
        "where the monothonic increasing after initial decreasing, breaks in a maxima point back to decreasing.\n",
        "For the Transformer model, it at about 200 embedding dimension.\n",
        "For the ResNet18 model, it at about 10 size.\n",
        "\n",
        "**2)**\n",
        "We can see the bigger the model is, the worse the model is.\n",
        "Thus, it is a Model-wise Double Descent, because more data hurts the performance of the model."
      ],
      "metadata": {
        "id": "lUD164iFkq5m"
      }
    },
    {
      "cell_type": "markdown",
      "metadata": {
        "id": "8neCIfrLhEb0"
      },
      "source": [
        "## <img src=\"https://img.icons8.com/clouds/100/000000/question-mark.png\" style=\"height:50px;display:inline\"> Question 4 - Initialization\n",
        "---\n",
        "Recall that in lecture 5 we were discussing how to calculate the initialization variance, and reached the conclusion that $$ \\sigma_l =\\frac{1}{\\sqrt{\\sum_j \\mathbb{E} \\left[\\varphi^2(u_{l-1}[j])\\right]}} $$\n",
        "Show that for ReLU activation ($\\varphi(z) = max(0,z)$), the optimal variance satisfies: $$ \\sigma_l = \\sqrt{\\frac{2}{d_{l-1}}}$$\n",
        "\n",
        "1. Under the assumption that the distribution of $W$ is symmetric ($\\to$ the distribution of $u$ is symmetric).\n",
        "2. Using the central limit theorem for large width.\n",
        "\n",
        "Answer each section **separately** and assume the sections are independent.\n",
        "\n",
        "All the notations are the same as in the lecture slides."
      ]
    },
    {
      "cell_type": "markdown",
      "metadata": {
        "id": "B5Avf8ajhEb0"
      },
      "source": [
        "## <img src=\"https://img.icons8.com/clouds/100/000000/question-mark.png\" style=\"height:50px;display:inline\"> Question 5 - Equivariance\n",
        "---\n",
        "\n",
        "Recall from lecture 6:\n",
        "A function $f: \\mathbb{R}^d \\to \\mathbb{R}^d$ is equivariant if $f(\\tau \\cdot x) = \\tau \\cdot f(x)$ for all $\\tau$.\n",
        "\n",
        "Let $f_w(x) = \\phi (Wx)$ where $\\phi$ is a component-wise non-linearity and $W \\in \\mathbb{R}^{d\\times d}$. Prove that $f_w:\\mathbb{R}^d \\to \\mathbb{R}^d$ is equivariant to transformation family $H$ **if and only if**: $$ \\forall \\tau \\in H, W[i, j] = W[\\tau(i), \\tau(j)] $$\n",
        "\n",
        "* Assume one-by-one activations (<a href=\"https://en.wikipedia.org/wiki/Injective_function\">Injective functions/one-by-one</a>)"
      ]
    },
    {
      "cell_type": "markdown",
      "source": [
        "**Proof ⇒:**\n",
        "$f_w$ is equivaraint to transformation family $H$.\n",
        "We will show that:\n",
        "$$ \\forall \\tau \\in H, W[i, j] = W[\\tau(i), \\tau(j)] $$\n",
        "Let $\\tau \\in H$.\n",
        "$$\n",
        "\\Rightarrow f_w(\\tau \\cdot x) = \\tau\\cdot f_w(x)\\\\\n",
        "⇒\\phi(W (\\tau \\cdot x)) = \\tau \\cdot \\phi(Wx)\n",
        "$$\n",
        "Since $\\phi$ is a component-wise non-linearity, it applies independently to eace element of the vector.\n",
        "And since we assume $\\phi$ is one-by-one activation. (Injective function)\n",
        "$$\\Rightarrow W(\\tau\\cdot x) = \\tau\\cdot (Wx)$$\n",
        "Thus by definition, $W$ commute with $\\tau$:\n",
        "$$\n",
        "\\forall i,j: W[i, j] = W[\\tau(i), \\tau(j)]\n",
        "$$\n",
        "$$\n",
        "⇒\\forall \\tau \\in H, W[i, j] = W[\\tau(i), \\tau(j)]$$\n",
        "**Proof ⇐:**\n",
        "Let $ \\forall \\tau \\in H, W[i, j] = W[\\tau(i), \\tau(j)] $, we will show that $f_w$ is equivariant to transformation family $H$.\n",
        "Let $x \\in \\mathbb{R}^d$.\n",
        "Since $W$ commutes with $\\tau$, then:\n",
        "$$\n",
        "W(\\tau \\cdot x) = \\tau \\cdot (W x)\n",
        "$$\n",
        "⇒ \\begin{align} f_w(\\tau\\cdot x) &= \\phi(W(\\tau \\cdot x))\\\\ &\\underset{W\\text{ commute with }\\tau}{=} \\phi(\\tau \\cdot (W x))\\\\\n",
        "&\\underset{\\phi \\text { is a component-wise non-linearity}}{=} \\tau\\cdot \\phi(Wx)\\\\\n",
        "&= \\tau \\cdot f_w(x)\\\\ \\blacksquare\n",
        "\\end{align}"
      ],
      "metadata": {
        "id": "q43SHRvQFVu3"
      }
    },
    {
      "cell_type": "markdown",
      "metadata": {
        "id": "BBR8i1ZahEb0"
      },
      "source": [
        "## <img src=\"https://img.icons8.com/clouds/100/000000/question-mark.png\" style=\"height:50px;display:inline\"> Question 6 -VGG Architecture\n",
        "---\n",
        "\n",
        "1. The VGG-11 CNN architecture consists of 11 convolution (CONV)/fully-connected (FC) layers (every CONV layer has the same padding and stride, every MAXPOOL layer is 2×2 and has padding of 0 and stride 2). Fill in the table. You need to **consider the bias**.\n",
        "\n",
        "\n",
        "* CONV$M$-$N$: a convolutional layer of size $M \\times M \\times N$, where $M$ is the kernel size and $N$ is the number of filters. $stride=1, padding=1$.\n",
        "* POOL2: $2 \\times 2$ Max Pooling with $stride=2$\n",
        "    * In case the input of the layer is odd, you should round down. For example, if the output of the layer should be $3.5 \\times 3.5 \\times 3$, you should round to $3 \\times 3 \\times 3$ (i.e., ignore the last column of the input image when performing MaxPooling).\n",
        "* FC-N: a fully connected layer with $N$ neurons.\n",
        "\n",
        "\n",
        "| Layer  | Output Dimension  | Number of Parameters (Weights) |\n",
        "|---|---|---|\n",
        "| INPUT  |  224x224x3 | 0  |\n",
        "|  CONV3-64 | -  | -  |\n",
        "| ReLU |  - | -  |\n",
        "| POOL2|  - | -  |\n",
        "|CONV3-128 | - | -|\n",
        "|ReLU | - | -|\n",
        "| POOL2|  - | -  |\n",
        "|CONV3-256 | - | -|\n",
        "|ReLU | - | -|\n",
        "|CONV3-256 | - | -|\n",
        "|ReLU | - | -|\n",
        "| POOL2|  - | -  |\n",
        "|CONV3-512 | - | -|\n",
        "|ReLU | - | -|\n",
        "|CONV3-512 | - | -|\n",
        "|ReLU | - | -|\n",
        "| POOL2|  - | -  |\n",
        "|CONV3-512 | - | -|\n",
        "|ReLU | - | -|\n",
        "|CONV3-512 | - | -|\n",
        "|ReLU | - | -|\n",
        "| POOL2|  - | -  |\n",
        "| FC-4096|  - | -  |\n",
        "| FC-4096|  - | -  |\n",
        "| FC-1000|  - | -  |\n",
        "| SOFTMAX|  - | -  |\n",
        "\n",
        "2. What is the total number of parameters? (use a calculator for this one)\n",
        "3. What percentage of the weights are found in the fully-connected layers?"
      ]
    },
    {
      "cell_type": "markdown",
      "metadata": {
        "id": "7D-14iM7pGhm"
      },
      "source": [
        "### <img src=\"https://img.icons8.com/officel/80/000000/code.png\" style=\"height:50px;display:inline\"> Part 2 - Code Assignments\n",
        "---\n",
        "* You must write your code in this notebook and save it with the output of all of the code cells.\n",
        "* Additional text can be added in Markdown cells.\n",
        "* You can use any other IDE you like (PyCharm, VSCode...) to write/debug your code, but for the submission you must copy it to this notebook, run the code and save the notebook with the output."
      ]
    },
    {
      "cell_type": "markdown",
      "metadata": {
        "id": "6TzFvEzkhEb1"
      },
      "source": [
        "#### Tips\n",
        "---\n",
        "1. Uniformly distributed tensors - `torch.Tensor(dim1, dim2, ...,dimN).uniform_(-1, 1)`\n",
        "2. Separation to **validation set** in PyTorch - <a href=\"https://gist.github.com/MattKleinsmith/5226a94bad5dd12ed0b871aed98cb123\">See example here</a>."
      ]
    },
    {
      "cell_type": "code",
      "execution_count": 139,
      "metadata": {
        "colab": {
          "base_uri": "https://localhost:8080/"
        },
        "id": "_8wU9OjrhEb1",
        "outputId": "984d986a-8601-407f-ba8e-c5e8f5e4b23d"
      },
      "outputs": [
        {
          "output_type": "execute_result",
          "data": {
            "text/plain": [
              "<torch._C.Generator at 0x7a3bfffdd490>"
            ]
          },
          "metadata": {},
          "execution_count": 139
        }
      ],
      "source": [
        "# imports for the practice (you can add more if you need)\n",
        "import os\n",
        "import numpy as np\n",
        "import pandas as pd\n",
        "import torch\n",
        "import torch.nn as nn\n",
        "from torch.utils.data import TensorDataset, DataLoader\n",
        "import torchvision\n",
        "import matplotlib.pyplot as plt\n",
        "from sklearn import preprocessing\n",
        "from sklearn.model_selection import train_test_split\n",
        "from sklearn.linear_model import LogisticRegression\n",
        "# %matplotlib notebook\n",
        "%matplotlib inline\n",
        "\n",
        "seed = 211\n",
        "np.random.seed(seed)\n",
        "torch.manual_seed(seed)"
      ]
    },
    {
      "cell_type": "markdown",
      "metadata": {
        "id": "wKWmBjDihEb1"
      },
      "source": [
        "### <img src=\"https://img.icons8.com/color/48/000000/code.png\" style=\"height:50px;display:inline\"> Task 1 - The Importance of Activation and Initialization\n",
        "---\n",
        "In this task, we are going to use $x \\in \\mathcal{R}^{512}$ and simple neural network that outputs $f(x) \\in \\mathcal{R}^{512}$. The network will have 100 layers with 512 units in each layer.\n",
        "\n",
        "1. We initialize the weights from a unit normal distribution. Run the following code cell and explain what happens. Add a short piece of code that locates when it happens (hint: use `torch.isnan()`). **Print** the layer number.\n",
        "2. We can demonstrate that at a given layer, the matrix product of inputs $x$ and weight matrix $a$ that is initialized from a standard normal distribution will, on average, have a standard deviation very close to the square root of the number of input connections. For our example, with 512 dimensions, show that for 10,000 multiplications of $a$ and $x$, the empirical standard deviation is similar to the square root of the number of input connections. Use the unbiased version: $$ \\hat{std} = \\sqrt{\\frac{\\sum_{i=1}^{10000}\\frac{1}{N}\\sum_{j=1}^N y^2}{10000}}, $$ where $y=ax$ and $N$ is the number of input connections. **Print** the mean, std and the square root of the number of input connections.\n",
        "3. For the code from 1, normalize the weight initialization by the square root of the input connections. How does that change the outcome? **Print** the mean and std after the modification.\n",
        "4. Add a `tanh()` activation after each layer for the code from 1. **Print** the mean and std after the modification. Explain the result.\n",
        "5. Xavier initialization sets a layer’s weights to values chosen from a random uniform distribution that’s bounded between $$\\pm \\sqrt{\\frac{6}{n_i + n_{i+1}}}$$ where $n_i$ is the number of incoming network connections, or “fan-in,” to the layer, and $ n_{i+1}$ is the number of outgoing network connections from that layer, also known as the “fan-out”. Glorot and Bengio believed that Xavier weight initialization would maintain the variance of activations and back-propagated gradients all the way up or down the layers of a network and demonstrated that networks initialized with Xavier achieved substantially quicker convergence and higher accuracy. Implement **Xavier Uniform** as `xavier_init(fan_in, fan_out)`, a function that returns a tensor initialized according to **Xavier Uniform**. Use it on the simple network from 1 with `tanh` activation. **Print** the mean and std after the modification.\n",
        "6. If you try to replace the `tanh` activation with `relu` activation in section 5, you will see very different results. Xavier strives to acheive activation outputs of each layer to have a mean of 0 and a standard deviation around 1, on average. When using a ReLU activation, a single layer will, on average have standard deviation that’s very close to the square root of the number of input connections, **divided by the square root of two** ($\\sqrt{\\frac{512}{2}}$ in our example). **Kaiming He et. al.** proposed an initialization scheme that’s tailored for deep neural nets that use these kinds of asymmetric, non-linear activations. Implement **Kaiming Normal** as `kaiming_init(fan_in, fan_out)`, a function that returns a tensor initialized according to **Kaiming Normal** (use `fan_in` mode). Use it on the simple network from 1 with `relu` activation. **Print** the mean and std after the modification. What happens when you use Xavier with RelU activation?"
      ]
    },
    {
      "cell_type": "code",
      "execution_count": 140,
      "metadata": {
        "colab": {
          "base_uri": "https://localhost:8080/"
        },
        "id": "rWftlu2mhEb2",
        "outputId": "f9afbcdc-f40e-4257-a2f1-527ab5858857"
      },
      "outputs": [
        {
          "output_type": "stream",
          "name": "stdout",
          "text": [
            "Layer number: 29\n",
            "tensor(-2.4280e+34) tensor(3.0550e+36)\n"
          ]
        }
      ],
      "source": [
        "x = torch.randn(512)\n",
        "limit_layer_before_vanishing = 0\n",
        "for i in range(100):\n",
        "  a = torch.randn(512, 512)\n",
        "  x = a @ x\n",
        "  if x.isnan().any():\n",
        "    print(f\"Layer number: {i+1}\")\n",
        "    limit_layer_before_vanishing = i-1\n",
        "    break\n",
        "x = torch.randn(512)\n",
        "for i in range(limit_layer_before_vanishing):\n",
        "  a = torch.randn(512, 512)\n",
        "  x = a @ x\n",
        "print(x.mean(), x.std())"
      ]
    },
    {
      "cell_type": "markdown",
      "metadata": {
        "id": "owFo6DoBhEb2"
      },
      "source": [
        "Your answers here"
      ]
    },
    {
      "cell_type": "code",
      "execution_count": 141,
      "metadata": {
        "id": "vLYmIxJehEb2",
        "colab": {
          "base_uri": "https://localhost:8080/",
          "height": 36
        },
        "outputId": "7df03071-5e53-4258-ec21-d27f7a4a7c3f"
      },
      "outputs": [
        {
          "output_type": "execute_result",
          "data": {
            "text/plain": [
              "'\\nYour Code Here - Use as many blocks as you need\\n'"
            ],
            "application/vnd.google.colaboratory.intrinsic+json": {
              "type": "string"
            }
          },
          "metadata": {},
          "execution_count": 141
        }
      ],
      "source": [
        "\"\"\"\n",
        "Your Code Here - Use as many blocks as you need\n",
        "\"\"\""
      ]
    },
    {
      "cell_type": "markdown",
      "source": [
        "2)"
      ],
      "metadata": {
        "id": "XDQxICa-ToaR"
      }
    },
    {
      "cell_type": "code",
      "source": [
        "print()"
      ],
      "metadata": {
        "id": "oA1HaZ7LTsB0",
        "colab": {
          "base_uri": "https://localhost:8080/"
        },
        "outputId": "bd385d2a-ca43-43e0-dd72-de8c472d6548"
      },
      "execution_count": 142,
      "outputs": [
        {
          "output_type": "stream",
          "name": "stdout",
          "text": [
            "\n"
          ]
        }
      ]
    },
    {
      "cell_type": "markdown",
      "metadata": {
        "id": "VFS3g8QahEb2"
      },
      "source": [
        "### <img src=\"https://img.icons8.com/color/48/000000/code.png\" style=\"height:50px;display:inline\"> Task 2 - MLP-based Deep Classifer\n",
        "---\n",
        "In this task you are going to design and train your first neural network for classification.\n",
        "\n",
        "For this task, we will use the \"<a href=\"https://archive.ics.uci.edu/ml/datasets/MAGIC+Gamma+Telescope\">MAGIC Gamma Telescope Data Set\"</a>. Cherenkov gamma telescope observes high energy gamma rays, taking advantage of the radiation emitted by charged particles produced inside the electromagnetic showers initiated by the gammas, and developing in the atmosphere. This Cherenkov radiation (of visible to UV wavelengths) leaks through the atmosphere and gets recorded in the detector, allowing reconstruction of the shower parameters. The available information consists of pulses left by the incoming Cherenkov photons on the photomultiplier tubes, arranged in a plane, the camera.\n",
        "\n",
        "Depending on the energy of the primary gamma, a total of few hundreds to some 10000 Cherenkov photons get collected, in patterns (called the shower image), allowing to discriminate statistically those caused by primary gammas (**signal**) from the images of hadronic showers initiated by cosmic rays in the upper atmosphere (**background**).\n",
        "\n",
        "Our data has 10 features and 2 classes (signal and background).\n",
        "\n",
        "1. Load the MAGIC dataset sored in `magic04.data` and display the first 5 features (just run the cell).\n",
        "2. Separate the data to train, validation and test, reserve 10% of the data for validation and 20% for test.\n",
        "3. Perform pre-processing steps of your choice and convert the class label from `str` to `int` (for example, `y_train = np.array([0 if y_train[i] == 'g' else 1 for i in range(len(y_train))]).astype(np.int)`).\n",
        "4. Train a Logistic Regression model from `sklearn` as a baseline for our neural network (only for this section use both the train and validation sets for training the classifier). **Print the test accuracy**.\n",
        "5. Convert the `numpy` arrays to `torch` tensors with `TensorDataset` as done in the tutorial.\n",
        "6. Design a **MLP** to classify the data. Optimize the hyper-parameters of your model using the accuracy on the validation set, and when you are satisfied with the model train it on both the train and validation sets and evaluate it on the test set. **You need to reach at least 85% accuracy on the test set, and 87% for a full grade**.\n",
        "    * You have a free choice of architecture, optimizer, learning scheduler, initialization, regularization and activations.\n",
        "    * The loss criterion is binary cross entropy: `nn.BCEWithLogitsLoss()` (performs `sigmoid` for you) or `nn.BCELoss` (you need to apply `sigmoid` on the network output yourself).\n",
        "    * In a Markdown block, write down the chosen architectures and all the hyper-parameters.\n",
        "        * Make sure to describe any design choice that you used to improve the performance (e.g. if you used a certain regularization or layer, mention it and describe why you think it helped).\n",
        "    * **Plot** the loss curves (and any oter statistic you want) as a function of epochs/iterations. **Print** the final performance.\n",
        "    * **Print** the test accuracy.\n",
        "7. Pick **2** initializations of your choosing and change the initialization of the linear layers and re-train the model (with the same optimal hyper-parameters you found). You can pick an initialization of your choosing from : https://pytorch.org/docs/stable/nn.init.html . See example below how to use. **Print** the change in accuracy for both changes (you should end up with 3 results - original, `init 1` and `init 2`)."
      ]
    },
    {
      "cell_type": "code",
      "execution_count": 143,
      "metadata": {
        "colab": {
          "base_uri": "https://localhost:8080/",
          "height": 206
        },
        "id": "Tq_0l4Z9hEb2",
        "outputId": "53107700-3599-4e8a-f735-f4329bb39eab"
      },
      "outputs": [
        {
          "output_type": "execute_result",
          "data": {
            "text/plain": [
              "    fLength    fWidth   fSize   fConc  fConc1     fAsym  fM3Long  fM3Trans  \\\n",
              "0   28.7967   16.0021  2.6449  0.3918  0.1982   27.7004  22.0110   -8.2027   \n",
              "1   31.6036   11.7235  2.5185  0.5303  0.3773   26.2722  23.8238   -9.9574   \n",
              "2  162.0520  136.0310  4.0612  0.0374  0.0187  116.7410 -64.8580  -45.2160   \n",
              "3   23.8172    9.5728  2.3385  0.6147  0.3922   27.2107  -6.4633   -7.1513   \n",
              "4   75.1362   30.9205  3.1611  0.3168  0.1832   -5.5277  28.5525   21.8393   \n",
              "\n",
              "    fAlpha     fDist class  \n",
              "0  40.0920   81.8828     g  \n",
              "1   6.3609  205.2610     g  \n",
              "2  76.9600  256.7880     g  \n",
              "3  10.4490  116.7370     g  \n",
              "4   4.6480  356.4620     g  "
            ],
            "text/html": [
              "\n",
              "  <div id=\"df-75c78391-525d-4be4-a8b4-b3384fd659e3\" class=\"colab-df-container\">\n",
              "    <div>\n",
              "<style scoped>\n",
              "    .dataframe tbody tr th:only-of-type {\n",
              "        vertical-align: middle;\n",
              "    }\n",
              "\n",
              "    .dataframe tbody tr th {\n",
              "        vertical-align: top;\n",
              "    }\n",
              "\n",
              "    .dataframe thead th {\n",
              "        text-align: right;\n",
              "    }\n",
              "</style>\n",
              "<table border=\"1\" class=\"dataframe\">\n",
              "  <thead>\n",
              "    <tr style=\"text-align: right;\">\n",
              "      <th></th>\n",
              "      <th>fLength</th>\n",
              "      <th>fWidth</th>\n",
              "      <th>fSize</th>\n",
              "      <th>fConc</th>\n",
              "      <th>fConc1</th>\n",
              "      <th>fAsym</th>\n",
              "      <th>fM3Long</th>\n",
              "      <th>fM3Trans</th>\n",
              "      <th>fAlpha</th>\n",
              "      <th>fDist</th>\n",
              "      <th>class</th>\n",
              "    </tr>\n",
              "  </thead>\n",
              "  <tbody>\n",
              "    <tr>\n",
              "      <th>0</th>\n",
              "      <td>28.7967</td>\n",
              "      <td>16.0021</td>\n",
              "      <td>2.6449</td>\n",
              "      <td>0.3918</td>\n",
              "      <td>0.1982</td>\n",
              "      <td>27.7004</td>\n",
              "      <td>22.0110</td>\n",
              "      <td>-8.2027</td>\n",
              "      <td>40.0920</td>\n",
              "      <td>81.8828</td>\n",
              "      <td>g</td>\n",
              "    </tr>\n",
              "    <tr>\n",
              "      <th>1</th>\n",
              "      <td>31.6036</td>\n",
              "      <td>11.7235</td>\n",
              "      <td>2.5185</td>\n",
              "      <td>0.5303</td>\n",
              "      <td>0.3773</td>\n",
              "      <td>26.2722</td>\n",
              "      <td>23.8238</td>\n",
              "      <td>-9.9574</td>\n",
              "      <td>6.3609</td>\n",
              "      <td>205.2610</td>\n",
              "      <td>g</td>\n",
              "    </tr>\n",
              "    <tr>\n",
              "      <th>2</th>\n",
              "      <td>162.0520</td>\n",
              "      <td>136.0310</td>\n",
              "      <td>4.0612</td>\n",
              "      <td>0.0374</td>\n",
              "      <td>0.0187</td>\n",
              "      <td>116.7410</td>\n",
              "      <td>-64.8580</td>\n",
              "      <td>-45.2160</td>\n",
              "      <td>76.9600</td>\n",
              "      <td>256.7880</td>\n",
              "      <td>g</td>\n",
              "    </tr>\n",
              "    <tr>\n",
              "      <th>3</th>\n",
              "      <td>23.8172</td>\n",
              "      <td>9.5728</td>\n",
              "      <td>2.3385</td>\n",
              "      <td>0.6147</td>\n",
              "      <td>0.3922</td>\n",
              "      <td>27.2107</td>\n",
              "      <td>-6.4633</td>\n",
              "      <td>-7.1513</td>\n",
              "      <td>10.4490</td>\n",
              "      <td>116.7370</td>\n",
              "      <td>g</td>\n",
              "    </tr>\n",
              "    <tr>\n",
              "      <th>4</th>\n",
              "      <td>75.1362</td>\n",
              "      <td>30.9205</td>\n",
              "      <td>3.1611</td>\n",
              "      <td>0.3168</td>\n",
              "      <td>0.1832</td>\n",
              "      <td>-5.5277</td>\n",
              "      <td>28.5525</td>\n",
              "      <td>21.8393</td>\n",
              "      <td>4.6480</td>\n",
              "      <td>356.4620</td>\n",
              "      <td>g</td>\n",
              "    </tr>\n",
              "  </tbody>\n",
              "</table>\n",
              "</div>\n",
              "    <div class=\"colab-df-buttons\">\n",
              "\n",
              "  <div class=\"colab-df-container\">\n",
              "    <button class=\"colab-df-convert\" onclick=\"convertToInteractive('df-75c78391-525d-4be4-a8b4-b3384fd659e3')\"\n",
              "            title=\"Convert this dataframe to an interactive table.\"\n",
              "            style=\"display:none;\">\n",
              "\n",
              "  <svg xmlns=\"http://www.w3.org/2000/svg\" height=\"24px\" viewBox=\"0 -960 960 960\">\n",
              "    <path d=\"M120-120v-720h720v720H120Zm60-500h600v-160H180v160Zm220 220h160v-160H400v160Zm0 220h160v-160H400v160ZM180-400h160v-160H180v160Zm440 0h160v-160H620v160ZM180-180h160v-160H180v160Zm440 0h160v-160H620v160Z\"/>\n",
              "  </svg>\n",
              "    </button>\n",
              "\n",
              "  <style>\n",
              "    .colab-df-container {\n",
              "      display:flex;\n",
              "      gap: 12px;\n",
              "    }\n",
              "\n",
              "    .colab-df-convert {\n",
              "      background-color: #E8F0FE;\n",
              "      border: none;\n",
              "      border-radius: 50%;\n",
              "      cursor: pointer;\n",
              "      display: none;\n",
              "      fill: #1967D2;\n",
              "      height: 32px;\n",
              "      padding: 0 0 0 0;\n",
              "      width: 32px;\n",
              "    }\n",
              "\n",
              "    .colab-df-convert:hover {\n",
              "      background-color: #E2EBFA;\n",
              "      box-shadow: 0px 1px 2px rgba(60, 64, 67, 0.3), 0px 1px 3px 1px rgba(60, 64, 67, 0.15);\n",
              "      fill: #174EA6;\n",
              "    }\n",
              "\n",
              "    .colab-df-buttons div {\n",
              "      margin-bottom: 4px;\n",
              "    }\n",
              "\n",
              "    [theme=dark] .colab-df-convert {\n",
              "      background-color: #3B4455;\n",
              "      fill: #D2E3FC;\n",
              "    }\n",
              "\n",
              "    [theme=dark] .colab-df-convert:hover {\n",
              "      background-color: #434B5C;\n",
              "      box-shadow: 0px 1px 3px 1px rgba(0, 0, 0, 0.15);\n",
              "      filter: drop-shadow(0px 1px 2px rgba(0, 0, 0, 0.3));\n",
              "      fill: #FFFFFF;\n",
              "    }\n",
              "  </style>\n",
              "\n",
              "    <script>\n",
              "      const buttonEl =\n",
              "        document.querySelector('#df-75c78391-525d-4be4-a8b4-b3384fd659e3 button.colab-df-convert');\n",
              "      buttonEl.style.display =\n",
              "        google.colab.kernel.accessAllowed ? 'block' : 'none';\n",
              "\n",
              "      async function convertToInteractive(key) {\n",
              "        const element = document.querySelector('#df-75c78391-525d-4be4-a8b4-b3384fd659e3');\n",
              "        const dataTable =\n",
              "          await google.colab.kernel.invokeFunction('convertToInteractive',\n",
              "                                                    [key], {});\n",
              "        if (!dataTable) return;\n",
              "\n",
              "        const docLinkHtml = 'Like what you see? Visit the ' +\n",
              "          '<a target=\"_blank\" href=https://colab.research.google.com/notebooks/data_table.ipynb>data table notebook</a>'\n",
              "          + ' to learn more about interactive tables.';\n",
              "        element.innerHTML = '';\n",
              "        dataTable['output_type'] = 'display_data';\n",
              "        await google.colab.output.renderOutput(dataTable, element);\n",
              "        const docLink = document.createElement('div');\n",
              "        docLink.innerHTML = docLinkHtml;\n",
              "        element.appendChild(docLink);\n",
              "      }\n",
              "    </script>\n",
              "  </div>\n",
              "\n",
              "\n",
              "<div id=\"df-86bfecb6-7342-4582-946f-b3532b875ac2\">\n",
              "  <button class=\"colab-df-quickchart\" onclick=\"quickchart('df-86bfecb6-7342-4582-946f-b3532b875ac2')\"\n",
              "            title=\"Suggest charts\"\n",
              "            style=\"display:none;\">\n",
              "\n",
              "<svg xmlns=\"http://www.w3.org/2000/svg\" height=\"24px\"viewBox=\"0 0 24 24\"\n",
              "     width=\"24px\">\n",
              "    <g>\n",
              "        <path d=\"M19 3H5c-1.1 0-2 .9-2 2v14c0 1.1.9 2 2 2h14c1.1 0 2-.9 2-2V5c0-1.1-.9-2-2-2zM9 17H7v-7h2v7zm4 0h-2V7h2v10zm4 0h-2v-4h2v4z\"/>\n",
              "    </g>\n",
              "</svg>\n",
              "  </button>\n",
              "\n",
              "<style>\n",
              "  .colab-df-quickchart {\n",
              "      --bg-color: #E8F0FE;\n",
              "      --fill-color: #1967D2;\n",
              "      --hover-bg-color: #E2EBFA;\n",
              "      --hover-fill-color: #174EA6;\n",
              "      --disabled-fill-color: #AAA;\n",
              "      --disabled-bg-color: #DDD;\n",
              "  }\n",
              "\n",
              "  [theme=dark] .colab-df-quickchart {\n",
              "      --bg-color: #3B4455;\n",
              "      --fill-color: #D2E3FC;\n",
              "      --hover-bg-color: #434B5C;\n",
              "      --hover-fill-color: #FFFFFF;\n",
              "      --disabled-bg-color: #3B4455;\n",
              "      --disabled-fill-color: #666;\n",
              "  }\n",
              "\n",
              "  .colab-df-quickchart {\n",
              "    background-color: var(--bg-color);\n",
              "    border: none;\n",
              "    border-radius: 50%;\n",
              "    cursor: pointer;\n",
              "    display: none;\n",
              "    fill: var(--fill-color);\n",
              "    height: 32px;\n",
              "    padding: 0;\n",
              "    width: 32px;\n",
              "  }\n",
              "\n",
              "  .colab-df-quickchart:hover {\n",
              "    background-color: var(--hover-bg-color);\n",
              "    box-shadow: 0 1px 2px rgba(60, 64, 67, 0.3), 0 1px 3px 1px rgba(60, 64, 67, 0.15);\n",
              "    fill: var(--button-hover-fill-color);\n",
              "  }\n",
              "\n",
              "  .colab-df-quickchart-complete:disabled,\n",
              "  .colab-df-quickchart-complete:disabled:hover {\n",
              "    background-color: var(--disabled-bg-color);\n",
              "    fill: var(--disabled-fill-color);\n",
              "    box-shadow: none;\n",
              "  }\n",
              "\n",
              "  .colab-df-spinner {\n",
              "    border: 2px solid var(--fill-color);\n",
              "    border-color: transparent;\n",
              "    border-bottom-color: var(--fill-color);\n",
              "    animation:\n",
              "      spin 1s steps(1) infinite;\n",
              "  }\n",
              "\n",
              "  @keyframes spin {\n",
              "    0% {\n",
              "      border-color: transparent;\n",
              "      border-bottom-color: var(--fill-color);\n",
              "      border-left-color: var(--fill-color);\n",
              "    }\n",
              "    20% {\n",
              "      border-color: transparent;\n",
              "      border-left-color: var(--fill-color);\n",
              "      border-top-color: var(--fill-color);\n",
              "    }\n",
              "    30% {\n",
              "      border-color: transparent;\n",
              "      border-left-color: var(--fill-color);\n",
              "      border-top-color: var(--fill-color);\n",
              "      border-right-color: var(--fill-color);\n",
              "    }\n",
              "    40% {\n",
              "      border-color: transparent;\n",
              "      border-right-color: var(--fill-color);\n",
              "      border-top-color: var(--fill-color);\n",
              "    }\n",
              "    60% {\n",
              "      border-color: transparent;\n",
              "      border-right-color: var(--fill-color);\n",
              "    }\n",
              "    80% {\n",
              "      border-color: transparent;\n",
              "      border-right-color: var(--fill-color);\n",
              "      border-bottom-color: var(--fill-color);\n",
              "    }\n",
              "    90% {\n",
              "      border-color: transparent;\n",
              "      border-bottom-color: var(--fill-color);\n",
              "    }\n",
              "  }\n",
              "</style>\n",
              "\n",
              "  <script>\n",
              "    async function quickchart(key) {\n",
              "      const quickchartButtonEl =\n",
              "        document.querySelector('#' + key + ' button');\n",
              "      quickchartButtonEl.disabled = true;  // To prevent multiple clicks.\n",
              "      quickchartButtonEl.classList.add('colab-df-spinner');\n",
              "      try {\n",
              "        const charts = await google.colab.kernel.invokeFunction(\n",
              "            'suggestCharts', [key], {});\n",
              "      } catch (error) {\n",
              "        console.error('Error during call to suggestCharts:', error);\n",
              "      }\n",
              "      quickchartButtonEl.classList.remove('colab-df-spinner');\n",
              "      quickchartButtonEl.classList.add('colab-df-quickchart-complete');\n",
              "    }\n",
              "    (() => {\n",
              "      let quickchartButtonEl =\n",
              "        document.querySelector('#df-86bfecb6-7342-4582-946f-b3532b875ac2 button');\n",
              "      quickchartButtonEl.style.display =\n",
              "        google.colab.kernel.accessAllowed ? 'block' : 'none';\n",
              "    })();\n",
              "  </script>\n",
              "</div>\n",
              "\n",
              "    </div>\n",
              "  </div>\n"
            ],
            "application/vnd.google.colaboratory.intrinsic+json": {
              "type": "dataframe",
              "variable_name": "data",
              "summary": "{\n  \"name\": \"data\",\n  \"rows\": 19020,\n  \"fields\": [\n    {\n      \"column\": \"fLength\",\n      \"properties\": {\n        \"dtype\": \"number\",\n        \"std\": 42.364854942802815,\n        \"min\": 4.2835,\n        \"max\": 334.177,\n        \"num_unique_values\": 18643,\n        \"samples\": [\n          29.3302,\n          61.2341,\n          40.7017\n        ],\n        \"semantic_type\": \"\",\n        \"description\": \"\"\n      }\n    },\n    {\n      \"column\": \"fWidth\",\n      \"properties\": {\n        \"dtype\": \"number\",\n        \"std\": 18.346056295681592,\n        \"min\": 0.0,\n        \"max\": 256.382,\n        \"num_unique_values\": 18200,\n        \"samples\": [\n          10.5168,\n          22.4704,\n          18.0348\n        ],\n        \"semantic_type\": \"\",\n        \"description\": \"\"\n      }\n    },\n    {\n      \"column\": \"fSize\",\n      \"properties\": {\n        \"dtype\": \"number\",\n        \"std\": 0.4725986486893078,\n        \"min\": 1.9413,\n        \"max\": 5.3233,\n        \"num_unique_values\": 7228,\n        \"samples\": [\n          2.8136,\n          2.5121,\n          3.3903\n        ],\n        \"semantic_type\": \"\",\n        \"description\": \"\"\n      }\n    },\n    {\n      \"column\": \"fConc\",\n      \"properties\": {\n        \"dtype\": \"number\",\n        \"std\": 0.18281314722123718,\n        \"min\": 0.0131,\n        \"max\": 0.893,\n        \"num_unique_values\": 6410,\n        \"samples\": [\n          0.0997,\n          0.1842,\n          0.131\n        ],\n        \"semantic_type\": \"\",\n        \"description\": \"\"\n      }\n    },\n    {\n      \"column\": \"fConc1\",\n      \"properties\": {\n        \"dtype\": \"number\",\n        \"std\": 0.11051079890195785,\n        \"min\": 0.0003,\n        \"max\": 0.6752,\n        \"num_unique_values\": 4421,\n        \"samples\": [\n          0.4651,\n          0.0325,\n          0.1752\n        ],\n        \"semantic_type\": \"\",\n        \"description\": \"\"\n      }\n    },\n    {\n      \"column\": \"fAsym\",\n      \"properties\": {\n        \"dtype\": \"number\",\n        \"std\": 59.20606198471529,\n        \"min\": -457.9161,\n        \"max\": 575.2407,\n        \"num_unique_values\": 18704,\n        \"samples\": [\n          -59.0369,\n          31.8588,\n          32.1961\n        ],\n        \"semantic_type\": \"\",\n        \"description\": \"\"\n      }\n    },\n    {\n      \"column\": \"fM3Long\",\n      \"properties\": {\n        \"dtype\": \"number\",\n        \"std\": 51.00011801388582,\n        \"min\": -331.78,\n        \"max\": 238.321,\n        \"num_unique_values\": 18693,\n        \"samples\": [\n          -12.7648,\n          18.1689,\n          18.9666\n        ],\n        \"semantic_type\": \"\",\n        \"description\": \"\"\n      }\n    },\n    {\n      \"column\": \"fM3Trans\",\n      \"properties\": {\n        \"dtype\": \"number\",\n        \"std\": 20.827438947228178,\n        \"min\": -205.8947,\n        \"max\": 179.851,\n        \"num_unique_values\": 18390,\n        \"samples\": [\n          -39.2878,\n          -9.7515,\n          -17.2016\n        ],\n        \"semantic_type\": \"\",\n        \"description\": \"\"\n      }\n    },\n    {\n      \"column\": \"fAlpha\",\n      \"properties\": {\n        \"dtype\": \"number\",\n        \"std\": 26.103620510358294,\n        \"min\": 0.0,\n        \"max\": 90.0,\n        \"num_unique_values\": 17981,\n        \"samples\": [\n          8.3289,\n          5.86,\n          1.2801\n        ],\n        \"semantic_type\": \"\",\n        \"description\": \"\"\n      }\n    },\n    {\n      \"column\": \"fDist\",\n      \"properties\": {\n        \"dtype\": \"number\",\n        \"std\": 74.73178696313757,\n        \"min\": 1.2826,\n        \"max\": 495.561,\n        \"num_unique_values\": 18437,\n        \"samples\": [\n          290.884,\n          199.29,\n          171.345\n        ],\n        \"semantic_type\": \"\",\n        \"description\": \"\"\n      }\n    },\n    {\n      \"column\": \"class\",\n      \"properties\": {\n        \"dtype\": \"category\",\n        \"num_unique_values\": 2,\n        \"samples\": [\n          \"h\",\n          \"g\"\n        ],\n        \"semantic_type\": \"\",\n        \"description\": \"\"\n      }\n    }\n  ]\n}"
            }
          },
          "metadata": {},
          "execution_count": 143
        }
      ],
      "source": [
        "# loading the data\n",
        "col_names = ['fLength', 'fWidth', 'fSize', 'fConc', 'fConc1', 'fAsym',  'fM3Long', 'fM3Trans', 'fAlpha', 'fDist', 'class']\n",
        "feature_names = ['fLength', 'fWidth', 'fSize', 'fConc', 'fConc1', 'fAsym',  'fM3Long', 'fM3Trans', 'fAlpha', 'fDist']\n",
        "data = pd.read_csv(\"./magic04.data\", names=col_names)\n",
        "X = data[feature_names]\n",
        "Y = data['class']\n",
        "data.head()"
      ]
    },
    {
      "cell_type": "code",
      "execution_count": 144,
      "metadata": {
        "id": "gvxRonRVhEb2"
      },
      "outputs": [],
      "source": [
        "# separate to train, test\n",
        "from sklearn.model_selection import train_test_split\n",
        "X_train, X_test, y_train, y_test = train_test_split(X, Y, test_size=0.3, random_state=42)\n",
        "X_val, X_test, y_val, y_test = train_test_split(X_test, y_test, test_size=(2/3), random_state=42)"
      ]
    },
    {
      "cell_type": "code",
      "execution_count": 145,
      "metadata": {
        "id": "zqzfEvwyhEb3"
      },
      "outputs": [],
      "source": [
        "# pre-processing and converting labels to integers\n",
        "def prep_label(label):\n",
        "  return np.array([0 if i == 'g' else 1 for i in label]).astype(int)\n",
        "y_train = prep_label(y_train)\n",
        "y_val = prep_label(y_val)\n",
        "y_test = prep_label(y_test)\n",
        "\n",
        "X_scaler = preprocessing.StandardScaler()\n",
        "X_scaler.fit(X_train)\n",
        "X_train = X_scaler.transform(X_train)\n",
        "X_val = X_scaler.transform(X_val)\n",
        "X_test = X_scaler.transform(X_test)"
      ]
    },
    {
      "cell_type": "code",
      "execution_count": 146,
      "metadata": {
        "id": "SEXfNIhbhEb3",
        "colab": {
          "base_uri": "https://localhost:8080/"
        },
        "outputId": "2ff87c2e-8d5f-42c8-81b8-2fe86ed0a8f1"
      },
      "outputs": [
        {
          "output_type": "stream",
          "name": "stdout",
          "text": [
            "Number of mislabeled points 2799 out of 13314 total points.\n",
            "Logistic Regression Model accuracy = 0.7994216614090431\n"
          ]
        }
      ],
      "source": [
        "# training a Logistic Regression baseline - complete the code with your variables\n",
        "logstic_model = LogisticRegression(solver='lbfgs')\n",
        "y_pred = logstic_model.fit(X_train, y_train).predict(X_train)\n",
        "print(\"Number of mislabeled points %d out of %d total points.\"% ((y_train != y_pred).sum(), X_train.shape[0]))\n",
        "print(\"Logistic Regression Model accuracy =\" , logstic_model.score(X_test, y_test))"
      ]
    },
    {
      "cell_type": "code",
      "execution_count": 147,
      "metadata": {
        "id": "JJnHR88ohEb3"
      },
      "outputs": [],
      "source": [
        "# create TensorDataset from numpy arrays\n",
        "def tensor_ds(x_data,y_data):\n",
        "  return TensorDataset(torch.tensor(x_data, dtype=torch.float), torch.tensor(y_data, dtype=torch.float))\n",
        "#tensor_train_ds = tensor_ds(X_train)\n",
        "#tensor_val_ds = tensor_ds(X_val)\n",
        "#tensor_test_ds = tensor_ds(X_test)"
      ]
    },
    {
      "cell_type": "code",
      "execution_count": 148,
      "metadata": {
        "id": "iqQoxAyLhEb3"
      },
      "outputs": [],
      "source": [
        "# example of weight initialization\n",
        "import torch.nn as nn\n",
        "class MyMLPModel(nn.Module):\n",
        "    def __init__(self, input_dim, output_dim, hidden_dim=256):\n",
        "        super(MyMLPModel, self).__init__()\n",
        "        # model definitions/blocks\n",
        "        # ...\n",
        "        # custom initialization\n",
        "        self.hidden = nn.Sequential(nn.Linear(input_dim, hidden_dim),\n",
        "                                    nn.ReLU(),\n",
        "                                    nn.Linear(hidden_dim, hidden_dim),\n",
        "                                    nn.ReLU(),\n",
        "                                    nn.Linear(hidden_dim, hidden_dim),\n",
        "                                    nn.ReLU(),\n",
        "                                    nn.Linear(hidden_dim, hidden_dim),\n",
        "                                    nn.ReLU())\n",
        "        self.output_layer = nn.Sequential(nn.Linear(hidden_dim, output_dim), nn.Sigmoid())\n",
        "        self.init_weights()\n",
        "\n",
        "    def init_weights(self):\n",
        "        for m in self.modules():\n",
        "            if isinstance(m, nn.Linear):\n",
        "                torch.nn.init.xavier_normal_(m.weight, gain=1.0)\n",
        "                if m.bias is not None:\n",
        "                    torch.nn.init.constant_(m.bias, 0)\n",
        "\n",
        "    def forward(self, x):\n",
        "        return self.output_layer(self.hidden(x))\n",
        "\n",
        "def check_accuracy(loader, model):\n",
        "  num_correct = 0\n",
        "  num_samples = 0\n",
        "  model.eval()\n",
        "  with torch.no_grad():\n",
        "    for x, y in loader:\n",
        "      x = x.to(device=device)\n",
        "      y = y.to(device=device)\n",
        "      scores = model(x)\n",
        "      _, predictions = scores.max(1)\n",
        "      num_correct += (predictions == y).sum()\n",
        "      num_samples += predictions.size(0)\n",
        "\n",
        "  return (num_correct,num_samples)"
      ]
    },
    {
      "cell_type": "code",
      "execution_count": 149,
      "metadata": {
        "id": "LQ2YVq9ohEb3"
      },
      "outputs": [],
      "source": [
        "# model, hyoer-paramerters and training\n",
        "\"\"\"\n",
        "Your Code Here - add as many blocks as you wish\n",
        "\"\"\"\n",
        "num_features = 10\n",
        "output_dim = 1\n",
        "batch_size = 256\n",
        "learning_rate = 0.01\n",
        "num_epochs = 500\n",
        "# device\n",
        "device = torch.device(\"cuda:0\" if torch.cuda.is_available() else \"cpu\")\n",
        "# loss criterion\n",
        "criterion = nn.BCELoss()\n",
        "model = MyMLPModel(num_features,output_dim).to(device)\n",
        "optimizer = torch.optim.Adam(model.parameters(), lr=learning_rate)\n"
      ]
    },
    {
      "cell_type": "code",
      "source": [
        "# create Tensor DataLoader from TensorDataset\n",
        "def tensor_dl(t_ds, batch_size):\n",
        "  return DataLoader(t_ds, batch_size=batch_size, shuffle=True)\n",
        "tensor_train_dl = tensor_dl(tensor_ds(X_train,y_train),batch_size)\n",
        "tensor_val_dl = tensor_dl(tensor_ds(X_val,y_val),batch_size)\n",
        "tensor_test_dl = tensor_dl(tensor_ds(X_test,y_test),batch_size)"
      ],
      "metadata": {
        "id": "4JVolxJ9h7O4"
      },
      "execution_count": 150,
      "outputs": []
    },
    {
      "cell_type": "code",
      "source": [
        "\n",
        "\n",
        "\n",
        "# training loop for the model\n",
        "for epoch in range(num_epochs):\n",
        "    epoch_losses = []\n",
        "    for features, targets in tensor_train_dl:\n",
        "        # send data to device\n",
        "        features = features.to(device)\n",
        "        targets = targets.to(device)\n",
        "        # forward pass\n",
        "        output = model(features)\n",
        "        # loss\n",
        "        loss = criterion(output.view(-1), targets)\n",
        "        # backward pass\n",
        "        optimizer.zero_grad()  # clean the gradients from previous iteration\n",
        "        loss.backward()  # autograd backward to calculate gradients\n",
        "        optimizer.step()  # apply update to the weights\n",
        "        epoch_losses.append(loss.item())\n",
        "\n",
        "    if epoch % 50 == 0:\n",
        "        print(f'epoch: {epoch} loss: {np.mean(epoch_losses)}')\n",
        "\n",
        "\n",
        "print(f'final loss: {np.mean(epoch_losses)}')\n",
        "num_correct , num_samples = check_accuracy(tensor_test_dl,model)\n",
        "print(f\"Test accuracy: {(num_correct/num_samples)*100:.2f}\")"
      ],
      "metadata": {
        "colab": {
          "base_uri": "https://localhost:8080/"
        },
        "id": "BD9dcokT1J3g",
        "outputId": "2bdd082e-1cdf-4275-df8e-3d501a96d377"
      },
      "execution_count": 151,
      "outputs": [
        {
          "output_type": "stream",
          "name": "stdout",
          "text": [
            "epoch: 0 loss: 0.41315136934226415\n",
            "epoch: 50 loss: 0.2579792746395435\n",
            "epoch: 100 loss: 0.1801902450761705\n",
            "epoch: 150 loss: 0.12135104722571823\n",
            "epoch: 200 loss: 0.09853221254888922\n",
            "epoch: 250 loss: 0.09177662015856194\n",
            "epoch: 300 loss: 0.07212365380013888\n",
            "epoch: 350 loss: 0.035936576897349005\n",
            "epoch: 400 loss: 0.0596200941710502\n",
            "epoch: 450 loss: 0.048040266493712\n",
            "final loss: 0.034138844770221215\n",
            "Test accuracy: 64.88\n"
          ]
        }
      ]
    },
    {
      "cell_type": "markdown",
      "metadata": {
        "id": "zyK3nbfjhEb3"
      },
      "source": [
        "### <img src=\"https://img.icons8.com/color/48/000000/code.png\" style=\"height:50px;display:inline\"> Task 3 - Design a CNN\n",
        "---\n",
        "In this task you are going to design a deep convolutional neural network to classify 10 classes from Imagenet (tench, English springer, cassette player, chain saw, church, French horn, garbage truck, gas pump, golf ball, parachute) - **The Imagenette Dataset**.\n",
        "\n",
        "* 10 classes, 1 for each object.\n",
        "* 9469 images for training and 3925 for testing (70/30 separation).\n",
        "* We will use a downscaled version where the images are resized to $64\\times 64$ resolution.\n",
        "\n",
        "<center><img src=\"https://storage.googleapis.com/tfds-data/visualization/fig/imagenette-160px-v2-1.0.0.png\" style=\"height:300px\"></center>\n",
        "\n",
        "1. Load the the Imagenette dataset with PyTorch using `torchvision.datasets.Imagenette(\n",
        "    root='./datasets', split='train', size='160px', download=True, transform=transform_train)`, where `split` is either `'train'` or `'val'`, you can read more here: https://pytorch.org/vision/main/generated/torchvision.datasets.Imagenette.html#torchvision.datasets.Imagenette . Use the `transform` parameter to resize the images to $64 \\times 64$ (for train, validation and test) and convert the data to tensors, e.g.,\n",
        "   \n",
        "   <code>transform_test=transforms.Compose([\n",
        "    transforms.Resize((64, 64)),\n",
        "    transforms.ToTensor(),])</code>\n",
        "    \n",
        "   Display 5 images from the train set.\n",
        "\n",
        "   <a href=\"https://gist.github.com/kevinzakka/d33bf8d6c7f06a9d8c76d97a7879f5cb\">Train, Validation and Test Split for torchvision Datasets</a>\n",
        "3. Design a Convolutional Neural Network (CNN) to classify classes from the images.\n",
        "    * You are **not allowed** to use `BatchNorm` in your architecture, but can use any other normalization (`GroupNorm`, `LayerNorm`, and etc..).\n",
        "    * Describe the chosen architecture, how many layers? What activations did you choose? What are the filter sizes? Did you use fully-connected layers (if you did, explain their sizes)?\n",
        "    * What is the input dimension? What is the output dimension?\n",
        "    * Calculate the number of parameters (weights) in the network. What is the model size in MegaBytes (MB)? (see the convolution tutorial). **Print** these numbers.\n",
        "4. Train the classifier (preferably on a GPU - use Colab for this part if you don't have a GPU).\n",
        "    * **DO NOT USE ANY IMAGE AUGMENTATIONS IN THIS PART** (You can still use `Normalize` if you wish, but no cropping, flipping and etc...).\n",
        "    * You are not allowed to use pre-trained models (i.e., no transfer learning, only learning from scratch).\n",
        "    * Describe the hyper-parameters of the model (batch size, epochs, optimizer, learning rate, scheduler....). How did you tune your model? Did you use a validation set to tune the model?\n",
        "    * What is the final accuracy on the test set? **Print** it.\n",
        "        * You need to reach at least 73% accuracy in this section, and 78% for maximum points in section 5.\n",
        "    * **Plot** the loss curves (and any other statistic you calculate) as a function of epochs/iterations.\n",
        "6. For the trained classifier, what is the accuracy on the test set when each test image is added a small noise $a=(0.05, 0.01, 0.005)$: $$ \\text{image} + a \\times \\mathcal{N}(0, 1).$$ **Print** the result for each value of $a$.\n",
        "7. Retrain the classifier, but this time use data augementations of your choosing. Briefly explain what augmentation you chose and how it works. Did the test accuracy improve? **Print** the result.\n",
        "    * You can use transformations available in `torchvision.transforms` as shown in the tutorial.\n",
        "    * You are welcome to use <a href=\"https://kornia.github.io/\">`kornia`</a> for the augmentations (**2 points bonus**, maximal grade is still 100).\n",
        "    * **Plot** the loss curves (and any other statistic you want) as a function of epochs/iterations."
      ]
    },
    {
      "cell_type": "code",
      "execution_count": 152,
      "metadata": {
        "id": "cI0UAtO5hEb3",
        "colab": {
          "base_uri": "https://localhost:8080/",
          "height": 170
        },
        "outputId": "965dd78c-1a01-4605-d9d6-0f6e93520b0b"
      },
      "outputs": [
        {
          "output_type": "display_data",
          "data": {
            "text/plain": [
              "<Figure size 1000x250 with 5 Axes>"
            ],
            "image/png": "[encoded data removed]"
          },
          "metadata": {}
        }
      ],
      "source": [
        "from torchvision import transforms\n",
        "def load_Imagenette(split_key):\n",
        "  try:\n",
        "    Imagenette_ds = torchvision.datasets.Imagenette( root='./datasets', split=split_key, size='160px', download=True, transform = transforms.Compose([ transforms.Resize((64, 64)), transforms.ToTensor(),]))\n",
        "  except RuntimeError:\n",
        "    Imagenette_ds = torchvision.datasets.Imagenette( root='./datasets', split=split_key, size='160px', download=False, transform = transforms.Compose([ transforms.Resize((64, 64)), transforms.ToTensor(),]))\n",
        "  return Imagenette_ds\n",
        "\n",
        "def convert_to_imshow_format(image):\n",
        "    # first convert back to [0,1] range\n",
        "    mean = torch.tensor([0.4914, 0.4822, 0.4465])\n",
        "    std = torch.tensor([0.2023, 0.1994, 0.2010])\n",
        "    image = image * std[:, None, None] + mean[:, None, None]  # [:, None, None] changes the shape from [N] to [N, 1, 1]\n",
        "    image = image.clamp(0, 1).numpy()\n",
        "    # convert from CHW to HWC\n",
        "    # from 3x32x32 to 32x32x3\n",
        "    return image.transpose(1, 2, 0)\n",
        "\n",
        "\n",
        "Imagenette_dataset_train = load_Imagenette('train')\n",
        "\n",
        "Imagenette_dataset_val = load_Imagenette('val')\n",
        "\n",
        "trainloader = torch.utils.data.DataLoader(Imagenette_dataset_train,\n",
        "                                          batch_size=5,\n",
        "                                          shuffle=True)\n",
        "dataiter = iter(trainloader)\n",
        "images, labels = next(dataiter)\n",
        "fig, axes = plt.subplots(1, len(images), figsize=(10, 2.5))\n",
        "for idx, image in enumerate(images):\n",
        "    axes[idx].imshow(convert_to_imshow_format(image))\n",
        "    axes[idx].set_xticks([])\n",
        "    axes[idx].set_yticks([])"
      ]
    },
    {
      "cell_type": "markdown",
      "metadata": {
        "id": "hqKvUvO3hEb4"
      },
      "source": [
        "## <img src=\"https://img.icons8.com/dusk/64/000000/prize.png\" style=\"height:50px;display:inline\"> Credits\n",
        "---\n",
        "* Icons made by <a href=\"https://www.flaticon.com/authors/becris\" title=\"Becris\">Becris</a> from <a href=\"https://www.flaticon.com/\" title=\"Flaticon\">www.flaticon.com</a>\n",
        "* Icons from <a href=\"https://icons8.com/\">Icons8.com</a> - https://icons8.com\n",
        "* Datasets from <a href=\"https://www.kaggle.com/\">Kaggle</a> - https://www.kaggle.com/"
      ]
    }
  ],
  "metadata": {
    "kernelspec": {
      "display_name": "Python 3",
      "name": "python3"
    },
    "language_info": {
      "codemirror_mode": {
        "name": "ipython",
        "version": 3
      },
      "file_extension": ".py",
      "mimetype": "text/x-python",
      "name": "python",
      "nbconvert_exporter": "python",
      "pygments_lexer": "ipython3",
      "version": "3.8.18"
    },
    "colab": {
      "provenance": [],
      "gpuType": "T4"
    },
    "accelerator": "GPU"
  },
  "nbformat": 4,
  "nbformat_minor": 0
}